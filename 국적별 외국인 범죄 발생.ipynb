{
 "cells": [
  {
   "cell_type": "code",
   "execution_count": 1,
   "metadata": {
    "collapsed": true
   },
   "outputs": [],
   "source": [
    "import numpy as np\n",
    "import pandas as pd"
   ]
  },
  {
   "cell_type": "code",
   "execution_count": 2,
   "outputs": [
    {
     "data": {
      "text/plain": "   행정구역별(시도)    연도      중국  중국(한국계)     대만     일본     몽골     베트남    필리핀  \\\n0      서울특별시  2016  60,560  177,339  6,436  5,918  6,774  10,010  3,901   \n1      부산광역시  2016  10,426    4,409  1,123    857    456   8,374  2,283   \n2      대구광역시  2016   5,165    3,566    576    377    340   5,041  1,879   \n3      인천광역시  2016  10,272   22,383  1,919    717  1,762   6,285  3,250   \n4      광주광역시  2016   5,240    2,440    249    330    358   3,494  1,133   \n..       ...   ...     ...      ...    ...    ...    ...     ...    ...   \n80      전라북도  2020   6,306    3,517    282    635  1,348  10,612  1,336   \n81      전라남도  2020   3,740    3,714    110    766    771  10,983  1,696   \n82      경상북도  2020   5,904    6,508    259    629  1,466  18,832  2,649   \n83      경상남도  2020   6,883   11,124    230  1,063  1,270  19,719  3,430   \n84   제주특별자치도  2020   7,154    3,033    292    221    420   3,890    613   \n\n        태국  ...    미얀마   스리랑카   파키스탄  방글라데시     네팔 우즈베키스탄  카자흐스탄    러시아  \\\n0    4,096  ...    653    330  1,194    695  1,016  2,549  1,460  1,623   \n1    2,037  ...  1,054    934    544    324    733  1,586    248    789   \n2    1,523  ...    394  1,059  1,004    558    681  1,350    218    271   \n3    4,745  ...  1,765    854  1,047  1,182  1,189  2,691    738    584   \n4    1,486  ...    326    490    318    151    425  1,911    420    259   \n..     ...  ...    ...    ...    ...    ...    ...    ...    ...    ...   \n80   6,533  ...    845    841    250    450  1,755  1,463    294    457   \n81   7,920  ...    856  2,665     98    142  1,920  1,398    356    499   \n82  12,466  ...  1,199  1,789    637    616  2,686  3,750  1,849    998   \n83  15,004  ...  2,096  2,930    974    809  3,342  6,090  1,908  1,903   \n84   2,917  ...    228    793     79    118  1,234    136    137     97   \n\n        미국    캐나다  \n0   21,956  5,672  \n1    2,118    614  \n2    1,610    345  \n3    2,104    608  \n4      729    158  \n..     ...    ...  \n80     794    213  \n81     632    151  \n82   1,418    240  \n83   1,668    318  \n84   1,604    288  \n\n[85 rows x 22 columns]",
      "text/html": "<div>\n<style scoped>\n    .dataframe tbody tr th:only-of-type {\n        vertical-align: middle;\n    }\n\n    .dataframe tbody tr th {\n        vertical-align: top;\n    }\n\n    .dataframe thead th {\n        text-align: right;\n    }\n</style>\n<table border=\"1\" class=\"dataframe\">\n  <thead>\n    <tr style=\"text-align: right;\">\n      <th></th>\n      <th>행정구역별(시도)</th>\n      <th>연도</th>\n      <th>중국</th>\n      <th>중국(한국계)</th>\n      <th>대만</th>\n      <th>일본</th>\n      <th>몽골</th>\n      <th>베트남</th>\n      <th>필리핀</th>\n      <th>태국</th>\n      <th>...</th>\n      <th>미얀마</th>\n      <th>스리랑카</th>\n      <th>파키스탄</th>\n      <th>방글라데시</th>\n      <th>네팔</th>\n      <th>우즈베키스탄</th>\n      <th>카자흐스탄</th>\n      <th>러시아</th>\n      <th>미국</th>\n      <th>캐나다</th>\n    </tr>\n  </thead>\n  <tbody>\n    <tr>\n      <th>0</th>\n      <td>서울특별시</td>\n      <td>2016</td>\n      <td>60,560</td>\n      <td>177,339</td>\n      <td>6,436</td>\n      <td>5,918</td>\n      <td>6,774</td>\n      <td>10,010</td>\n      <td>3,901</td>\n      <td>4,096</td>\n      <td>...</td>\n      <td>653</td>\n      <td>330</td>\n      <td>1,194</td>\n      <td>695</td>\n      <td>1,016</td>\n      <td>2,549</td>\n      <td>1,460</td>\n      <td>1,623</td>\n      <td>21,956</td>\n      <td>5,672</td>\n    </tr>\n    <tr>\n      <th>1</th>\n      <td>부산광역시</td>\n      <td>2016</td>\n      <td>10,426</td>\n      <td>4,409</td>\n      <td>1,123</td>\n      <td>857</td>\n      <td>456</td>\n      <td>8,374</td>\n      <td>2,283</td>\n      <td>2,037</td>\n      <td>...</td>\n      <td>1,054</td>\n      <td>934</td>\n      <td>544</td>\n      <td>324</td>\n      <td>733</td>\n      <td>1,586</td>\n      <td>248</td>\n      <td>789</td>\n      <td>2,118</td>\n      <td>614</td>\n    </tr>\n    <tr>\n      <th>2</th>\n      <td>대구광역시</td>\n      <td>2016</td>\n      <td>5,165</td>\n      <td>3,566</td>\n      <td>576</td>\n      <td>377</td>\n      <td>340</td>\n      <td>5,041</td>\n      <td>1,879</td>\n      <td>1,523</td>\n      <td>...</td>\n      <td>394</td>\n      <td>1,059</td>\n      <td>1,004</td>\n      <td>558</td>\n      <td>681</td>\n      <td>1,350</td>\n      <td>218</td>\n      <td>271</td>\n      <td>1,610</td>\n      <td>345</td>\n    </tr>\n    <tr>\n      <th>3</th>\n      <td>인천광역시</td>\n      <td>2016</td>\n      <td>10,272</td>\n      <td>22,383</td>\n      <td>1,919</td>\n      <td>717</td>\n      <td>1,762</td>\n      <td>6,285</td>\n      <td>3,250</td>\n      <td>4,745</td>\n      <td>...</td>\n      <td>1,765</td>\n      <td>854</td>\n      <td>1,047</td>\n      <td>1,182</td>\n      <td>1,189</td>\n      <td>2,691</td>\n      <td>738</td>\n      <td>584</td>\n      <td>2,104</td>\n      <td>608</td>\n    </tr>\n    <tr>\n      <th>4</th>\n      <td>광주광역시</td>\n      <td>2016</td>\n      <td>5,240</td>\n      <td>2,440</td>\n      <td>249</td>\n      <td>330</td>\n      <td>358</td>\n      <td>3,494</td>\n      <td>1,133</td>\n      <td>1,486</td>\n      <td>...</td>\n      <td>326</td>\n      <td>490</td>\n      <td>318</td>\n      <td>151</td>\n      <td>425</td>\n      <td>1,911</td>\n      <td>420</td>\n      <td>259</td>\n      <td>729</td>\n      <td>158</td>\n    </tr>\n    <tr>\n      <th>...</th>\n      <td>...</td>\n      <td>...</td>\n      <td>...</td>\n      <td>...</td>\n      <td>...</td>\n      <td>...</td>\n      <td>...</td>\n      <td>...</td>\n      <td>...</td>\n      <td>...</td>\n      <td>...</td>\n      <td>...</td>\n      <td>...</td>\n      <td>...</td>\n      <td>...</td>\n      <td>...</td>\n      <td>...</td>\n      <td>...</td>\n      <td>...</td>\n      <td>...</td>\n      <td>...</td>\n    </tr>\n    <tr>\n      <th>80</th>\n      <td>전라북도</td>\n      <td>2020</td>\n      <td>6,306</td>\n      <td>3,517</td>\n      <td>282</td>\n      <td>635</td>\n      <td>1,348</td>\n      <td>10,612</td>\n      <td>1,336</td>\n      <td>6,533</td>\n      <td>...</td>\n      <td>845</td>\n      <td>841</td>\n      <td>250</td>\n      <td>450</td>\n      <td>1,755</td>\n      <td>1,463</td>\n      <td>294</td>\n      <td>457</td>\n      <td>794</td>\n      <td>213</td>\n    </tr>\n    <tr>\n      <th>81</th>\n      <td>전라남도</td>\n      <td>2020</td>\n      <td>3,740</td>\n      <td>3,714</td>\n      <td>110</td>\n      <td>766</td>\n      <td>771</td>\n      <td>10,983</td>\n      <td>1,696</td>\n      <td>7,920</td>\n      <td>...</td>\n      <td>856</td>\n      <td>2,665</td>\n      <td>98</td>\n      <td>142</td>\n      <td>1,920</td>\n      <td>1,398</td>\n      <td>356</td>\n      <td>499</td>\n      <td>632</td>\n      <td>151</td>\n    </tr>\n    <tr>\n      <th>82</th>\n      <td>경상북도</td>\n      <td>2020</td>\n      <td>5,904</td>\n      <td>6,508</td>\n      <td>259</td>\n      <td>629</td>\n      <td>1,466</td>\n      <td>18,832</td>\n      <td>2,649</td>\n      <td>12,466</td>\n      <td>...</td>\n      <td>1,199</td>\n      <td>1,789</td>\n      <td>637</td>\n      <td>616</td>\n      <td>2,686</td>\n      <td>3,750</td>\n      <td>1,849</td>\n      <td>998</td>\n      <td>1,418</td>\n      <td>240</td>\n    </tr>\n    <tr>\n      <th>83</th>\n      <td>경상남도</td>\n      <td>2020</td>\n      <td>6,883</td>\n      <td>11,124</td>\n      <td>230</td>\n      <td>1,063</td>\n      <td>1,270</td>\n      <td>19,719</td>\n      <td>3,430</td>\n      <td>15,004</td>\n      <td>...</td>\n      <td>2,096</td>\n      <td>2,930</td>\n      <td>974</td>\n      <td>809</td>\n      <td>3,342</td>\n      <td>6,090</td>\n      <td>1,908</td>\n      <td>1,903</td>\n      <td>1,668</td>\n      <td>318</td>\n    </tr>\n    <tr>\n      <th>84</th>\n      <td>제주특별자치도</td>\n      <td>2020</td>\n      <td>7,154</td>\n      <td>3,033</td>\n      <td>292</td>\n      <td>221</td>\n      <td>420</td>\n      <td>3,890</td>\n      <td>613</td>\n      <td>2,917</td>\n      <td>...</td>\n      <td>228</td>\n      <td>793</td>\n      <td>79</td>\n      <td>118</td>\n      <td>1,234</td>\n      <td>136</td>\n      <td>137</td>\n      <td>97</td>\n      <td>1,604</td>\n      <td>288</td>\n    </tr>\n  </tbody>\n</table>\n<p>85 rows × 22 columns</p>\n</div>"
     },
     "execution_count": 2,
     "metadata": {},
     "output_type": "execute_result"
    }
   ],
   "source": [
    "state_df=pd.read_csv('./data/국적별_행정구역별 외국인 범죄 발생.csv')\n",
    "state_df"
   ],
   "metadata": {
    "collapsed": false,
    "pycharm": {
     "name": "#%%\n"
    }
   }
  },
  {
   "cell_type": "code",
   "execution_count": 3,
   "outputs": [],
   "source": [
    "from sklearn.preprocessing import LabelEncoder"
   ],
   "metadata": {
    "collapsed": false,
    "pycharm": {
     "name": "#%%\n"
    }
   }
  },
  {
   "cell_type": "code",
   "execution_count": 4,
   "outputs": [],
   "source": [
    "state_df_processed=state_df.drop(['행정구역별(시도)','연도' ], axis=1)"
   ],
   "metadata": {
    "collapsed": false,
    "pycharm": {
     "name": "#%%\n"
    }
   }
  },
  {
   "cell_type": "code",
   "execution_count": 5,
   "outputs": [
    {
     "name": "stdout",
     "output_type": "stream",
     "text": [
      "<class 'pandas.core.frame.DataFrame'>\n",
      "RangeIndex: 85 entries, 0 to 84\n",
      "Data columns (total 20 columns):\n",
      " #   Column   Non-Null Count  Dtype \n",
      "---  ------   --------------  ----- \n",
      " 0   중국       85 non-null     object\n",
      " 1   중국(한국계)  85 non-null     object\n",
      " 2   대만       85 non-null     object\n",
      " 3   일본       85 non-null     object\n",
      " 4   몽골       85 non-null     object\n",
      " 5   베트남      85 non-null     object\n",
      " 6   필리핀      85 non-null     object\n",
      " 7   태국       85 non-null     object\n",
      " 8   인도네시아    85 non-null     object\n",
      " 9   캄보디아     85 non-null     object\n",
      " 10  미얀마      85 non-null     object\n",
      " 11  스리랑카     85 non-null     object\n",
      " 12  파키스탄     85 non-null     object\n",
      " 13  방글라데시    85 non-null     object\n",
      " 14  네팔       85 non-null     object\n",
      " 15  우즈베키스탄   85 non-null     object\n",
      " 16  카자흐스탄    85 non-null     object\n",
      " 17  러시아      85 non-null     object\n",
      " 18  미국       85 non-null     object\n",
      " 19  캐나다      85 non-null     object\n",
      "dtypes: object(20)\n",
      "memory usage: 13.4+ KB\n"
     ]
    }
   ],
   "source": [
    "state_df_processed.info()"
   ],
   "metadata": {
    "collapsed": false,
    "pycharm": {
     "name": "#%%\n"
    }
   }
  },
  {
   "cell_type": "code",
   "execution_count": 6,
   "outputs": [],
   "source": [
    "countries=['중국', '중국(한국계)', '대만','일본', '몽골','베트남','필리핀','태국','인도네시아','캄보디아','미얀마','스리랑카','파키스탄','방글라데시','네팔','우즈베키스탄','카자흐스탄','러시아','미국','캐나다']\n",
    "for country in countries:\n",
    "    state_df_processed[country]=state_df_processed[country].apply(lambda x:int(x.replace(',','')))"
   ],
   "metadata": {
    "collapsed": false,
    "pycharm": {
     "name": "#%%\n"
    }
   }
  },
  {
   "cell_type": "code",
   "execution_count": 7,
   "outputs": [],
   "source": [
    "from sklearn.model_selection import train_test_split\n",
    "\n",
    "from sklearn.ensemble import RandomForestClassifier\n",
    "from sklearn.metrics import *"
   ],
   "metadata": {
    "collapsed": false,
    "pycharm": {
     "name": "#%%\n"
    }
   }
  },
  {
   "cell_type": "code",
   "execution_count": 8,
   "outputs": [
    {
     "data": {
      "text/plain": "       중국  중국(한국계)    대만    일본    몽골    베트남   필리핀     태국  인도네시아  캄보디아   미얀마  \\\n0   60560   177339  6436  5918  6774  10010  3901   4096    981   997   653   \n1   10426     4409  1123   857   456   8374  2283   2037   2747  1251  1054   \n2    5165     3566   576   377   340   5041  1879   1523   1902   929   394   \n3   10272    22383  1919   717  1762   6285  3250   4745   2179  1302  1765   \n4    5240     2440   249   330   358   3494  1133   1486    761  1080   326   \n..    ...      ...   ...   ...   ...    ...   ...    ...    ...   ...   ...   \n80   6306     3517   282   635  1348  10612  1336   6533    925  1868   845   \n81   3740     3714   110   766   771  10983  1696   7920   2338  2650   856   \n82   5904     6508   259   629  1466  18832  2649  12466   3847  2869  1199   \n83   6883    11124   230  1063  1270  19719  3430  15004   6074  4204  2096   \n84   7154     3033   292   221   420   3890   613   2917   1812   425   228   \n\n    스리랑카  파키스탄  방글라데시    네팔  우즈베키스탄  카자흐스탄   러시아     미국   캐나다  \n0    330  1194    695  1016    2549   1460  1623  21956  5672  \n1    934   544    324   733    1586    248   789   2118   614  \n2   1059  1004    558   681    1350    218   271   1610   345  \n3    854  1047   1182  1189    2691    738   584   2104   608  \n4    490   318    151   425    1911    420   259    729   158  \n..   ...   ...    ...   ...     ...    ...   ...    ...   ...  \n80   841   250    450  1755    1463    294   457    794   213  \n81  2665    98    142  1920    1398    356   499    632   151  \n82  1789   637    616  2686    3750   1849   998   1418   240  \n83  2930   974    809  3342    6090   1908  1903   1668   318  \n84   793    79    118  1234     136    137    97   1604   288  \n\n[85 rows x 20 columns]",
      "text/html": "<div>\n<style scoped>\n    .dataframe tbody tr th:only-of-type {\n        vertical-align: middle;\n    }\n\n    .dataframe tbody tr th {\n        vertical-align: top;\n    }\n\n    .dataframe thead th {\n        text-align: right;\n    }\n</style>\n<table border=\"1\" class=\"dataframe\">\n  <thead>\n    <tr style=\"text-align: right;\">\n      <th></th>\n      <th>중국</th>\n      <th>중국(한국계)</th>\n      <th>대만</th>\n      <th>일본</th>\n      <th>몽골</th>\n      <th>베트남</th>\n      <th>필리핀</th>\n      <th>태국</th>\n      <th>인도네시아</th>\n      <th>캄보디아</th>\n      <th>미얀마</th>\n      <th>스리랑카</th>\n      <th>파키스탄</th>\n      <th>방글라데시</th>\n      <th>네팔</th>\n      <th>우즈베키스탄</th>\n      <th>카자흐스탄</th>\n      <th>러시아</th>\n      <th>미국</th>\n      <th>캐나다</th>\n    </tr>\n  </thead>\n  <tbody>\n    <tr>\n      <th>0</th>\n      <td>60560</td>\n      <td>177339</td>\n      <td>6436</td>\n      <td>5918</td>\n      <td>6774</td>\n      <td>10010</td>\n      <td>3901</td>\n      <td>4096</td>\n      <td>981</td>\n      <td>997</td>\n      <td>653</td>\n      <td>330</td>\n      <td>1194</td>\n      <td>695</td>\n      <td>1016</td>\n      <td>2549</td>\n      <td>1460</td>\n      <td>1623</td>\n      <td>21956</td>\n      <td>5672</td>\n    </tr>\n    <tr>\n      <th>1</th>\n      <td>10426</td>\n      <td>4409</td>\n      <td>1123</td>\n      <td>857</td>\n      <td>456</td>\n      <td>8374</td>\n      <td>2283</td>\n      <td>2037</td>\n      <td>2747</td>\n      <td>1251</td>\n      <td>1054</td>\n      <td>934</td>\n      <td>544</td>\n      <td>324</td>\n      <td>733</td>\n      <td>1586</td>\n      <td>248</td>\n      <td>789</td>\n      <td>2118</td>\n      <td>614</td>\n    </tr>\n    <tr>\n      <th>2</th>\n      <td>5165</td>\n      <td>3566</td>\n      <td>576</td>\n      <td>377</td>\n      <td>340</td>\n      <td>5041</td>\n      <td>1879</td>\n      <td>1523</td>\n      <td>1902</td>\n      <td>929</td>\n      <td>394</td>\n      <td>1059</td>\n      <td>1004</td>\n      <td>558</td>\n      <td>681</td>\n      <td>1350</td>\n      <td>218</td>\n      <td>271</td>\n      <td>1610</td>\n      <td>345</td>\n    </tr>\n    <tr>\n      <th>3</th>\n      <td>10272</td>\n      <td>22383</td>\n      <td>1919</td>\n      <td>717</td>\n      <td>1762</td>\n      <td>6285</td>\n      <td>3250</td>\n      <td>4745</td>\n      <td>2179</td>\n      <td>1302</td>\n      <td>1765</td>\n      <td>854</td>\n      <td>1047</td>\n      <td>1182</td>\n      <td>1189</td>\n      <td>2691</td>\n      <td>738</td>\n      <td>584</td>\n      <td>2104</td>\n      <td>608</td>\n    </tr>\n    <tr>\n      <th>4</th>\n      <td>5240</td>\n      <td>2440</td>\n      <td>249</td>\n      <td>330</td>\n      <td>358</td>\n      <td>3494</td>\n      <td>1133</td>\n      <td>1486</td>\n      <td>761</td>\n      <td>1080</td>\n      <td>326</td>\n      <td>490</td>\n      <td>318</td>\n      <td>151</td>\n      <td>425</td>\n      <td>1911</td>\n      <td>420</td>\n      <td>259</td>\n      <td>729</td>\n      <td>158</td>\n    </tr>\n    <tr>\n      <th>...</th>\n      <td>...</td>\n      <td>...</td>\n      <td>...</td>\n      <td>...</td>\n      <td>...</td>\n      <td>...</td>\n      <td>...</td>\n      <td>...</td>\n      <td>...</td>\n      <td>...</td>\n      <td>...</td>\n      <td>...</td>\n      <td>...</td>\n      <td>...</td>\n      <td>...</td>\n      <td>...</td>\n      <td>...</td>\n      <td>...</td>\n      <td>...</td>\n      <td>...</td>\n    </tr>\n    <tr>\n      <th>80</th>\n      <td>6306</td>\n      <td>3517</td>\n      <td>282</td>\n      <td>635</td>\n      <td>1348</td>\n      <td>10612</td>\n      <td>1336</td>\n      <td>6533</td>\n      <td>925</td>\n      <td>1868</td>\n      <td>845</td>\n      <td>841</td>\n      <td>250</td>\n      <td>450</td>\n      <td>1755</td>\n      <td>1463</td>\n      <td>294</td>\n      <td>457</td>\n      <td>794</td>\n      <td>213</td>\n    </tr>\n    <tr>\n      <th>81</th>\n      <td>3740</td>\n      <td>3714</td>\n      <td>110</td>\n      <td>766</td>\n      <td>771</td>\n      <td>10983</td>\n      <td>1696</td>\n      <td>7920</td>\n      <td>2338</td>\n      <td>2650</td>\n      <td>856</td>\n      <td>2665</td>\n      <td>98</td>\n      <td>142</td>\n      <td>1920</td>\n      <td>1398</td>\n      <td>356</td>\n      <td>499</td>\n      <td>632</td>\n      <td>151</td>\n    </tr>\n    <tr>\n      <th>82</th>\n      <td>5904</td>\n      <td>6508</td>\n      <td>259</td>\n      <td>629</td>\n      <td>1466</td>\n      <td>18832</td>\n      <td>2649</td>\n      <td>12466</td>\n      <td>3847</td>\n      <td>2869</td>\n      <td>1199</td>\n      <td>1789</td>\n      <td>637</td>\n      <td>616</td>\n      <td>2686</td>\n      <td>3750</td>\n      <td>1849</td>\n      <td>998</td>\n      <td>1418</td>\n      <td>240</td>\n    </tr>\n    <tr>\n      <th>83</th>\n      <td>6883</td>\n      <td>11124</td>\n      <td>230</td>\n      <td>1063</td>\n      <td>1270</td>\n      <td>19719</td>\n      <td>3430</td>\n      <td>15004</td>\n      <td>6074</td>\n      <td>4204</td>\n      <td>2096</td>\n      <td>2930</td>\n      <td>974</td>\n      <td>809</td>\n      <td>3342</td>\n      <td>6090</td>\n      <td>1908</td>\n      <td>1903</td>\n      <td>1668</td>\n      <td>318</td>\n    </tr>\n    <tr>\n      <th>84</th>\n      <td>7154</td>\n      <td>3033</td>\n      <td>292</td>\n      <td>221</td>\n      <td>420</td>\n      <td>3890</td>\n      <td>613</td>\n      <td>2917</td>\n      <td>1812</td>\n      <td>425</td>\n      <td>228</td>\n      <td>793</td>\n      <td>79</td>\n      <td>118</td>\n      <td>1234</td>\n      <td>136</td>\n      <td>137</td>\n      <td>97</td>\n      <td>1604</td>\n      <td>288</td>\n    </tr>\n  </tbody>\n</table>\n<p>85 rows × 20 columns</p>\n</div>"
     },
     "execution_count": 8,
     "metadata": {},
     "output_type": "execute_result"
    }
   ],
   "source": [
    "state_df_processed"
   ],
   "metadata": {
    "collapsed": false,
    "pycharm": {
     "name": "#%%\n"
    }
   }
  },
  {
   "cell_type": "code",
   "execution_count": 8,
   "outputs": [],
   "source": [],
   "metadata": {
    "collapsed": false,
    "pycharm": {
     "name": "#%%\n"
    }
   }
  },
  {
   "cell_type": "code",
   "execution_count": 8,
   "outputs": [],
   "source": [],
   "metadata": {
    "collapsed": false,
    "pycharm": {
     "name": "#%%\n"
    }
   }
  },
  {
   "cell_type": "code",
   "execution_count": 8,
   "outputs": [],
   "source": [],
   "metadata": {
    "collapsed": false,
    "pycharm": {
     "name": "#%%\n"
    }
   }
  }
 ],
 "metadata": {
  "kernelspec": {
   "display_name": "Python 3",
   "language": "python",
   "name": "python3"
  },
  "language_info": {
   "codemirror_mode": {
    "name": "ipython",
    "version": 2
   },
   "file_extension": ".py",
   "mimetype": "text/x-python",
   "name": "python",
   "nbconvert_exporter": "python",
   "pygments_lexer": "ipython2",
   "version": "2.7.6"
  }
 },
 "nbformat": 4,
 "nbformat_minor": 0
}