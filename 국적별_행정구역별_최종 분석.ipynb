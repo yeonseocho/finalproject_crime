{
 "cells": [
  {
   "cell_type": "code",
   "execution_count": 12,
   "metadata": {
    "collapsed": true
   },
   "outputs": [],
   "source": [
    "import numpy as np\n",
    "import pandas as pd"
   ]
  },
  {
   "cell_type": "code",
   "execution_count": 13,
   "outputs": [
    {
     "data": {
      "text/plain": "  행정구역별(시도)    연도      내국인 국적가진 외국인 국적 없는 외국인      중국  중국(한국계)     대만     일본  \\\n0     서울특별시  2016  9470339  404,037   335,167  60,560  177,339  6,436  5,918   \n1     부산광역시  2016  3394316   59,872    46,168  10,426    4,409  1,123    857   \n2     대구광역시  2016  2841151   40,251    30,492   5,165    3,566    576    377   \n3     인천광역시  2016  2430510   94,670    71,873  10,272   22,383  1,919    717   \n4     광주광역시  2016  1515758   31,162    23,701   5,240    2,440    249    330   \n\n      몽골  ... 기타 강간·강제추행등   방화    상해     폭행 체포・감금    협박 약취・유인 폭력행위등   공갈  \\\n0  6,774  ...          72  286  6949  39337   268  3036    35  2615  694   \n1    456  ...          30   98  4637   9749    77  1031    20  1052  416   \n2    340  ...          14   68  2863   7457    47   600     8   534  192   \n3  1,762  ...          27   84  2289  11762   132   870    10   899  255   \n4    358  ...          15   38  1309   4797    43   400     8   389  114   \n\n      손괴  \n0  11667  \n1   3462  \n2   2856  \n3   3664  \n4   1550  \n\n[5 rows x 41 columns]",
      "text/html": "<div>\n<style scoped>\n    .dataframe tbody tr th:only-of-type {\n        vertical-align: middle;\n    }\n\n    .dataframe tbody tr th {\n        vertical-align: top;\n    }\n\n    .dataframe thead th {\n        text-align: right;\n    }\n</style>\n<table border=\"1\" class=\"dataframe\">\n  <thead>\n    <tr style=\"text-align: right;\">\n      <th></th>\n      <th>행정구역별(시도)</th>\n      <th>연도</th>\n      <th>내국인</th>\n      <th>국적가진 외국인</th>\n      <th>국적 없는 외국인</th>\n      <th>중국</th>\n      <th>중국(한국계)</th>\n      <th>대만</th>\n      <th>일본</th>\n      <th>몽골</th>\n      <th>...</th>\n      <th>기타 강간·강제추행등</th>\n      <th>방화</th>\n      <th>상해</th>\n      <th>폭행</th>\n      <th>체포・감금</th>\n      <th>협박</th>\n      <th>약취・유인</th>\n      <th>폭력행위등</th>\n      <th>공갈</th>\n      <th>손괴</th>\n    </tr>\n  </thead>\n  <tbody>\n    <tr>\n      <th>0</th>\n      <td>서울특별시</td>\n      <td>2016</td>\n      <td>9470339</td>\n      <td>404,037</td>\n      <td>335,167</td>\n      <td>60,560</td>\n      <td>177,339</td>\n      <td>6,436</td>\n      <td>5,918</td>\n      <td>6,774</td>\n      <td>...</td>\n      <td>72</td>\n      <td>286</td>\n      <td>6949</td>\n      <td>39337</td>\n      <td>268</td>\n      <td>3036</td>\n      <td>35</td>\n      <td>2615</td>\n      <td>694</td>\n      <td>11667</td>\n    </tr>\n    <tr>\n      <th>1</th>\n      <td>부산광역시</td>\n      <td>2016</td>\n      <td>3394316</td>\n      <td>59,872</td>\n      <td>46,168</td>\n      <td>10,426</td>\n      <td>4,409</td>\n      <td>1,123</td>\n      <td>857</td>\n      <td>456</td>\n      <td>...</td>\n      <td>30</td>\n      <td>98</td>\n      <td>4637</td>\n      <td>9749</td>\n      <td>77</td>\n      <td>1031</td>\n      <td>20</td>\n      <td>1052</td>\n      <td>416</td>\n      <td>3462</td>\n    </tr>\n    <tr>\n      <th>2</th>\n      <td>대구광역시</td>\n      <td>2016</td>\n      <td>2841151</td>\n      <td>40,251</td>\n      <td>30,492</td>\n      <td>5,165</td>\n      <td>3,566</td>\n      <td>576</td>\n      <td>377</td>\n      <td>340</td>\n      <td>...</td>\n      <td>14</td>\n      <td>68</td>\n      <td>2863</td>\n      <td>7457</td>\n      <td>47</td>\n      <td>600</td>\n      <td>8</td>\n      <td>534</td>\n      <td>192</td>\n      <td>2856</td>\n    </tr>\n    <tr>\n      <th>3</th>\n      <td>인천광역시</td>\n      <td>2016</td>\n      <td>2430510</td>\n      <td>94,670</td>\n      <td>71,873</td>\n      <td>10,272</td>\n      <td>22,383</td>\n      <td>1,919</td>\n      <td>717</td>\n      <td>1,762</td>\n      <td>...</td>\n      <td>27</td>\n      <td>84</td>\n      <td>2289</td>\n      <td>11762</td>\n      <td>132</td>\n      <td>870</td>\n      <td>10</td>\n      <td>899</td>\n      <td>255</td>\n      <td>3664</td>\n    </tr>\n    <tr>\n      <th>4</th>\n      <td>광주광역시</td>\n      <td>2016</td>\n      <td>1515758</td>\n      <td>31,162</td>\n      <td>23,701</td>\n      <td>5,240</td>\n      <td>2,440</td>\n      <td>249</td>\n      <td>330</td>\n      <td>358</td>\n      <td>...</td>\n      <td>15</td>\n      <td>38</td>\n      <td>1309</td>\n      <td>4797</td>\n      <td>43</td>\n      <td>400</td>\n      <td>8</td>\n      <td>389</td>\n      <td>114</td>\n      <td>1550</td>\n    </tr>\n  </tbody>\n</table>\n<p>5 rows × 41 columns</p>\n</div>"
     },
     "execution_count": 13,
     "metadata": {},
     "output_type": "execute_result"
    }
   ],
   "source": [
    "state_df=pd.read_csv('./data/국적별_행정구역별 외국인 범죄 발생_최종.csv')\n",
    "state_df.head()"
   ],
   "metadata": {
    "collapsed": false,
    "pycharm": {
     "name": "#%%\n"
    }
   }
  },
  {
   "cell_type": "code",
   "execution_count": 14,
   "outputs": [
    {
     "data": {
      "text/plain": "Index(['행정구역별(시도)', '연도', '내국인', '국적가진 외국인', '국적 없는 외국인', '중국', '중국(한국계)',\n       '대만', '일본', '몽골', '베트남', '필리핀', '태국', '인도네시아', '캄보디아', '미얀마', '스리랑카',\n       '파키스탄', '방글라데시', '네팔', '우즈베키스탄', '카자흐스탄', '러시아', '미국', '캐나다', '살인기수',\n       '살인미수등', '강도', '강간', '유사강간', '강제추행', '기타 강간·강제추행등', '방화', '상해', '폭행',\n       '체포・감금', '협박', '약취・유인', '폭력행위등', '공갈', '손괴'],\n      dtype='object')"
     },
     "execution_count": 14,
     "metadata": {},
     "output_type": "execute_result"
    }
   ],
   "source": [
    "state_df.columns"
   ],
   "metadata": {
    "collapsed": false,
    "pycharm": {
     "name": "#%%\n"
    }
   }
  },
  {
   "cell_type": "code",
   "execution_count": 15,
   "outputs": [
    {
     "data": {
      "text/plain": "   행정구역별(시도)      중국  중국(한국계)     대만     일본     몽골     베트남    필리핀      태국  \\\n0      서울특별시  60,560  177,339  6,436  5,918  6,774  10,010  3,901   4,096   \n1      부산광역시  10,426    4,409  1,123    857    456   8,374  2,283   2,037   \n2      대구광역시   5,165    3,566    576    377    340   5,041  1,879   1,523   \n3      인천광역시  10,272   22,383  1,919    717  1,762   6,285  3,250   4,745   \n4      광주광역시   5,240    2,440    249    330    358   3,494  1,133   1,486   \n..       ...     ...      ...    ...    ...    ...     ...    ...     ...   \n80      전라북도   6,306    3,517    282    635  1,348  10,612  1,336   6,533   \n81      전라남도   3,740    3,714    110    766    771  10,983  1,696   7,920   \n82      경상북도   5,904    6,508    259    629  1,466  18,832  2,649  12,466   \n83      경상남도   6,883   11,124    230  1,063  1,270  19,719  3,430  15,004   \n84   제주특별자치도   7,154    3,033    292    221    420   3,890    613   2,917   \n\n    인도네시아  ...    미얀마   스리랑카   파키스탄  방글라데시     네팔 우즈베키스탄  카자흐스탄    러시아  \\\n0     981  ...    653    330  1,194    695  1,016  2,549  1,460  1,623   \n1   2,747  ...  1,054    934    544    324    733  1,586    248    789   \n2   1,902  ...    394  1,059  1,004    558    681  1,350    218    271   \n3   2,179  ...  1,765    854  1,047  1,182  1,189  2,691    738    584   \n4     761  ...    326    490    318    151    425  1,911    420    259   \n..    ...  ...    ...    ...    ...    ...    ...    ...    ...    ...   \n80    925  ...    845    841    250    450  1,755  1,463    294    457   \n81  2,338  ...    856  2,665     98    142  1,920  1,398    356    499   \n82  3,847  ...  1,199  1,789    637    616  2,686  3,750  1,849    998   \n83  6,074  ...  2,096  2,930    974    809  3,342  6,090  1,908  1,903   \n84  1,812  ...    228    793     79    118  1,234    136    137     97   \n\n        미국    캐나다  \n0   21,956  5,672  \n1    2,118    614  \n2    1,610    345  \n3    2,104    608  \n4      729    158  \n..     ...    ...  \n80     794    213  \n81     632    151  \n82   1,418    240  \n83   1,668    318  \n84   1,604    288  \n\n[85 rows x 21 columns]",
      "text/html": "<div>\n<style scoped>\n    .dataframe tbody tr th:only-of-type {\n        vertical-align: middle;\n    }\n\n    .dataframe tbody tr th {\n        vertical-align: top;\n    }\n\n    .dataframe thead th {\n        text-align: right;\n    }\n</style>\n<table border=\"1\" class=\"dataframe\">\n  <thead>\n    <tr style=\"text-align: right;\">\n      <th></th>\n      <th>행정구역별(시도)</th>\n      <th>중국</th>\n      <th>중국(한국계)</th>\n      <th>대만</th>\n      <th>일본</th>\n      <th>몽골</th>\n      <th>베트남</th>\n      <th>필리핀</th>\n      <th>태국</th>\n      <th>인도네시아</th>\n      <th>...</th>\n      <th>미얀마</th>\n      <th>스리랑카</th>\n      <th>파키스탄</th>\n      <th>방글라데시</th>\n      <th>네팔</th>\n      <th>우즈베키스탄</th>\n      <th>카자흐스탄</th>\n      <th>러시아</th>\n      <th>미국</th>\n      <th>캐나다</th>\n    </tr>\n  </thead>\n  <tbody>\n    <tr>\n      <th>0</th>\n      <td>서울특별시</td>\n      <td>60,560</td>\n      <td>177,339</td>\n      <td>6,436</td>\n      <td>5,918</td>\n      <td>6,774</td>\n      <td>10,010</td>\n      <td>3,901</td>\n      <td>4,096</td>\n      <td>981</td>\n      <td>...</td>\n      <td>653</td>\n      <td>330</td>\n      <td>1,194</td>\n      <td>695</td>\n      <td>1,016</td>\n      <td>2,549</td>\n      <td>1,460</td>\n      <td>1,623</td>\n      <td>21,956</td>\n      <td>5,672</td>\n    </tr>\n    <tr>\n      <th>1</th>\n      <td>부산광역시</td>\n      <td>10,426</td>\n      <td>4,409</td>\n      <td>1,123</td>\n      <td>857</td>\n      <td>456</td>\n      <td>8,374</td>\n      <td>2,283</td>\n      <td>2,037</td>\n      <td>2,747</td>\n      <td>...</td>\n      <td>1,054</td>\n      <td>934</td>\n      <td>544</td>\n      <td>324</td>\n      <td>733</td>\n      <td>1,586</td>\n      <td>248</td>\n      <td>789</td>\n      <td>2,118</td>\n      <td>614</td>\n    </tr>\n    <tr>\n      <th>2</th>\n      <td>대구광역시</td>\n      <td>5,165</td>\n      <td>3,566</td>\n      <td>576</td>\n      <td>377</td>\n      <td>340</td>\n      <td>5,041</td>\n      <td>1,879</td>\n      <td>1,523</td>\n      <td>1,902</td>\n      <td>...</td>\n      <td>394</td>\n      <td>1,059</td>\n      <td>1,004</td>\n      <td>558</td>\n      <td>681</td>\n      <td>1,350</td>\n      <td>218</td>\n      <td>271</td>\n      <td>1,610</td>\n      <td>345</td>\n    </tr>\n    <tr>\n      <th>3</th>\n      <td>인천광역시</td>\n      <td>10,272</td>\n      <td>22,383</td>\n      <td>1,919</td>\n      <td>717</td>\n      <td>1,762</td>\n      <td>6,285</td>\n      <td>3,250</td>\n      <td>4,745</td>\n      <td>2,179</td>\n      <td>...</td>\n      <td>1,765</td>\n      <td>854</td>\n      <td>1,047</td>\n      <td>1,182</td>\n      <td>1,189</td>\n      <td>2,691</td>\n      <td>738</td>\n      <td>584</td>\n      <td>2,104</td>\n      <td>608</td>\n    </tr>\n    <tr>\n      <th>4</th>\n      <td>광주광역시</td>\n      <td>5,240</td>\n      <td>2,440</td>\n      <td>249</td>\n      <td>330</td>\n      <td>358</td>\n      <td>3,494</td>\n      <td>1,133</td>\n      <td>1,486</td>\n      <td>761</td>\n      <td>...</td>\n      <td>326</td>\n      <td>490</td>\n      <td>318</td>\n      <td>151</td>\n      <td>425</td>\n      <td>1,911</td>\n      <td>420</td>\n      <td>259</td>\n      <td>729</td>\n      <td>158</td>\n    </tr>\n    <tr>\n      <th>...</th>\n      <td>...</td>\n      <td>...</td>\n      <td>...</td>\n      <td>...</td>\n      <td>...</td>\n      <td>...</td>\n      <td>...</td>\n      <td>...</td>\n      <td>...</td>\n      <td>...</td>\n      <td>...</td>\n      <td>...</td>\n      <td>...</td>\n      <td>...</td>\n      <td>...</td>\n      <td>...</td>\n      <td>...</td>\n      <td>...</td>\n      <td>...</td>\n      <td>...</td>\n      <td>...</td>\n    </tr>\n    <tr>\n      <th>80</th>\n      <td>전라북도</td>\n      <td>6,306</td>\n      <td>3,517</td>\n      <td>282</td>\n      <td>635</td>\n      <td>1,348</td>\n      <td>10,612</td>\n      <td>1,336</td>\n      <td>6,533</td>\n      <td>925</td>\n      <td>...</td>\n      <td>845</td>\n      <td>841</td>\n      <td>250</td>\n      <td>450</td>\n      <td>1,755</td>\n      <td>1,463</td>\n      <td>294</td>\n      <td>457</td>\n      <td>794</td>\n      <td>213</td>\n    </tr>\n    <tr>\n      <th>81</th>\n      <td>전라남도</td>\n      <td>3,740</td>\n      <td>3,714</td>\n      <td>110</td>\n      <td>766</td>\n      <td>771</td>\n      <td>10,983</td>\n      <td>1,696</td>\n      <td>7,920</td>\n      <td>2,338</td>\n      <td>...</td>\n      <td>856</td>\n      <td>2,665</td>\n      <td>98</td>\n      <td>142</td>\n      <td>1,920</td>\n      <td>1,398</td>\n      <td>356</td>\n      <td>499</td>\n      <td>632</td>\n      <td>151</td>\n    </tr>\n    <tr>\n      <th>82</th>\n      <td>경상북도</td>\n      <td>5,904</td>\n      <td>6,508</td>\n      <td>259</td>\n      <td>629</td>\n      <td>1,466</td>\n      <td>18,832</td>\n      <td>2,649</td>\n      <td>12,466</td>\n      <td>3,847</td>\n      <td>...</td>\n      <td>1,199</td>\n      <td>1,789</td>\n      <td>637</td>\n      <td>616</td>\n      <td>2,686</td>\n      <td>3,750</td>\n      <td>1,849</td>\n      <td>998</td>\n      <td>1,418</td>\n      <td>240</td>\n    </tr>\n    <tr>\n      <th>83</th>\n      <td>경상남도</td>\n      <td>6,883</td>\n      <td>11,124</td>\n      <td>230</td>\n      <td>1,063</td>\n      <td>1,270</td>\n      <td>19,719</td>\n      <td>3,430</td>\n      <td>15,004</td>\n      <td>6,074</td>\n      <td>...</td>\n      <td>2,096</td>\n      <td>2,930</td>\n      <td>974</td>\n      <td>809</td>\n      <td>3,342</td>\n      <td>6,090</td>\n      <td>1,908</td>\n      <td>1,903</td>\n      <td>1,668</td>\n      <td>318</td>\n    </tr>\n    <tr>\n      <th>84</th>\n      <td>제주특별자치도</td>\n      <td>7,154</td>\n      <td>3,033</td>\n      <td>292</td>\n      <td>221</td>\n      <td>420</td>\n      <td>3,890</td>\n      <td>613</td>\n      <td>2,917</td>\n      <td>1,812</td>\n      <td>...</td>\n      <td>228</td>\n      <td>793</td>\n      <td>79</td>\n      <td>118</td>\n      <td>1,234</td>\n      <td>136</td>\n      <td>137</td>\n      <td>97</td>\n      <td>1,604</td>\n      <td>288</td>\n    </tr>\n  </tbody>\n</table>\n<p>85 rows × 21 columns</p>\n</div>"
     },
     "execution_count": 15,
     "metadata": {},
     "output_type": "execute_result"
    }
   ],
   "source": [
    "new_state_df=state_df[['행정구역별(시도)', '중국', '중국(한국계)',\n",
    "                               '대만', '일본', '몽골', '베트남', '필리핀', '태국', '인도네시아', '캄보디아', '미얀마', '스리랑카',\n",
    "                               '파키스탄', '방글라데시', '네팔', '우즈베키스탄', '카자흐스탄', '러시아', '미국', '캐나다' ]]\n",
    "new_state_df"
   ],
   "metadata": {
    "collapsed": false,
    "pycharm": {
     "name": "#%%\n"
    }
   }
  },
  {
   "cell_type": "code",
   "execution_count": 16,
   "outputs": [],
   "source": [
    "import matplotlib.pyplot as plt\n",
    "import seaborn as sns"
   ],
   "metadata": {
    "collapsed": false,
    "pycharm": {
     "name": "#%%\n"
    }
   }
  },
  {
   "cell_type": "code",
   "execution_count": 17,
   "outputs": [
    {
     "ename": "TypeError",
     "evalue": "Neither the `x` nor `y` variable appears to be numeric.",
     "output_type": "error",
     "traceback": [
      "\u001B[1;31m---------------------------------------------------------------------------\u001B[0m",
      "\u001B[1;31mTypeError\u001B[0m                                 Traceback (most recent call last)",
      "Input \u001B[1;32mIn [17]\u001B[0m, in \u001B[0;36m<cell line: 1>\u001B[1;34m()\u001B[0m\n\u001B[1;32m----> 1\u001B[0m \u001B[43msns\u001B[49m\u001B[38;5;241;43m.\u001B[39;49m\u001B[43mbarplot\u001B[49m\u001B[43m(\u001B[49m\u001B[43mdata\u001B[49m\u001B[38;5;241;43m=\u001B[39;49m\u001B[43mnew_state_df\u001B[49m\u001B[43m,\u001B[49m\u001B[43m \u001B[49m\u001B[43mx\u001B[49m\u001B[38;5;241;43m=\u001B[39;49m\u001B[38;5;124;43m\"\u001B[39;49m\u001B[38;5;124;43m행정구역별(시도)\u001B[39;49m\u001B[38;5;124;43m\"\u001B[39;49m\u001B[43m,\u001B[49m\u001B[43m \u001B[49m\u001B[43my\u001B[49m\u001B[38;5;241;43m=\u001B[39;49m\u001B[38;5;124;43m\"\u001B[39;49m\u001B[38;5;124;43m중국\u001B[39;49m\u001B[38;5;124;43m\"\u001B[39;49m\u001B[43m)\u001B[49m\n\u001B[0;32m      2\u001B[0m plt\u001B[38;5;241m.\u001B[39mshow()\n",
      "File \u001B[1;32mc:\\users\\jpc10\\ideaprojects\\untitled\\venv\\lib\\site-packages\\seaborn\\_decorators.py:46\u001B[0m, in \u001B[0;36m_deprecate_positional_args.<locals>.inner_f\u001B[1;34m(*args, **kwargs)\u001B[0m\n\u001B[0;32m     36\u001B[0m     warnings\u001B[38;5;241m.\u001B[39mwarn(\n\u001B[0;32m     37\u001B[0m         \u001B[38;5;124m\"\u001B[39m\u001B[38;5;124mPass the following variable\u001B[39m\u001B[38;5;132;01m{}\u001B[39;00m\u001B[38;5;124m as \u001B[39m\u001B[38;5;132;01m{}\u001B[39;00m\u001B[38;5;124mkeyword arg\u001B[39m\u001B[38;5;132;01m{}\u001B[39;00m\u001B[38;5;124m: \u001B[39m\u001B[38;5;132;01m{}\u001B[39;00m\u001B[38;5;124m. \u001B[39m\u001B[38;5;124m\"\u001B[39m\n\u001B[0;32m     38\u001B[0m         \u001B[38;5;124m\"\u001B[39m\u001B[38;5;124mFrom version 0.12, the only valid positional argument \u001B[39m\u001B[38;5;124m\"\u001B[39m\n\u001B[1;32m   (...)\u001B[0m\n\u001B[0;32m     43\u001B[0m         \u001B[38;5;167;01mFutureWarning\u001B[39;00m\n\u001B[0;32m     44\u001B[0m     )\n\u001B[0;32m     45\u001B[0m kwargs\u001B[38;5;241m.\u001B[39mupdate({k: arg \u001B[38;5;28;01mfor\u001B[39;00m k, arg \u001B[38;5;129;01min\u001B[39;00m \u001B[38;5;28mzip\u001B[39m(sig\u001B[38;5;241m.\u001B[39mparameters, args)})\n\u001B[1;32m---> 46\u001B[0m \u001B[38;5;28;01mreturn\u001B[39;00m f(\u001B[38;5;241m*\u001B[39m\u001B[38;5;241m*\u001B[39mkwargs)\n",
      "File \u001B[1;32mc:\\users\\jpc10\\ideaprojects\\untitled\\venv\\lib\\site-packages\\seaborn\\categorical.py:3182\u001B[0m, in \u001B[0;36mbarplot\u001B[1;34m(x, y, hue, data, order, hue_order, estimator, ci, n_boot, units, seed, orient, color, palette, saturation, errcolor, errwidth, capsize, dodge, ax, **kwargs)\u001B[0m\n\u001B[0;32m   3169\u001B[0m \u001B[38;5;129m@_deprecate_positional_args\u001B[39m\n\u001B[0;32m   3170\u001B[0m \u001B[38;5;28;01mdef\u001B[39;00m \u001B[38;5;21mbarplot\u001B[39m(\n\u001B[0;32m   3171\u001B[0m     \u001B[38;5;241m*\u001B[39m,\n\u001B[1;32m   (...)\u001B[0m\n\u001B[0;32m   3179\u001B[0m     \u001B[38;5;241m*\u001B[39m\u001B[38;5;241m*\u001B[39mkwargs,\n\u001B[0;32m   3180\u001B[0m ):\n\u001B[1;32m-> 3182\u001B[0m     plotter \u001B[38;5;241m=\u001B[39m \u001B[43m_BarPlotter\u001B[49m\u001B[43m(\u001B[49m\u001B[43mx\u001B[49m\u001B[43m,\u001B[49m\u001B[43m \u001B[49m\u001B[43my\u001B[49m\u001B[43m,\u001B[49m\u001B[43m \u001B[49m\u001B[43mhue\u001B[49m\u001B[43m,\u001B[49m\u001B[43m \u001B[49m\u001B[43mdata\u001B[49m\u001B[43m,\u001B[49m\u001B[43m \u001B[49m\u001B[43morder\u001B[49m\u001B[43m,\u001B[49m\u001B[43m \u001B[49m\u001B[43mhue_order\u001B[49m\u001B[43m,\u001B[49m\n\u001B[0;32m   3183\u001B[0m \u001B[43m                          \u001B[49m\u001B[43mestimator\u001B[49m\u001B[43m,\u001B[49m\u001B[43m \u001B[49m\u001B[43mci\u001B[49m\u001B[43m,\u001B[49m\u001B[43m \u001B[49m\u001B[43mn_boot\u001B[49m\u001B[43m,\u001B[49m\u001B[43m \u001B[49m\u001B[43munits\u001B[49m\u001B[43m,\u001B[49m\u001B[43m \u001B[49m\u001B[43mseed\u001B[49m\u001B[43m,\u001B[49m\n\u001B[0;32m   3184\u001B[0m \u001B[43m                          \u001B[49m\u001B[43morient\u001B[49m\u001B[43m,\u001B[49m\u001B[43m \u001B[49m\u001B[43mcolor\u001B[49m\u001B[43m,\u001B[49m\u001B[43m \u001B[49m\u001B[43mpalette\u001B[49m\u001B[43m,\u001B[49m\u001B[43m \u001B[49m\u001B[43msaturation\u001B[49m\u001B[43m,\u001B[49m\n\u001B[0;32m   3185\u001B[0m \u001B[43m                          \u001B[49m\u001B[43merrcolor\u001B[49m\u001B[43m,\u001B[49m\u001B[43m \u001B[49m\u001B[43merrwidth\u001B[49m\u001B[43m,\u001B[49m\u001B[43m \u001B[49m\u001B[43mcapsize\u001B[49m\u001B[43m,\u001B[49m\u001B[43m \u001B[49m\u001B[43mdodge\u001B[49m\u001B[43m)\u001B[49m\n\u001B[0;32m   3187\u001B[0m     \u001B[38;5;28;01mif\u001B[39;00m ax \u001B[38;5;129;01mis\u001B[39;00m \u001B[38;5;28;01mNone\u001B[39;00m:\n\u001B[0;32m   3188\u001B[0m         ax \u001B[38;5;241m=\u001B[39m plt\u001B[38;5;241m.\u001B[39mgca()\n",
      "File \u001B[1;32mc:\\users\\jpc10\\ideaprojects\\untitled\\venv\\lib\\site-packages\\seaborn\\categorical.py:1584\u001B[0m, in \u001B[0;36m_BarPlotter.__init__\u001B[1;34m(self, x, y, hue, data, order, hue_order, estimator, ci, n_boot, units, seed, orient, color, palette, saturation, errcolor, errwidth, capsize, dodge)\u001B[0m\n\u001B[0;32m   1579\u001B[0m \u001B[38;5;28;01mdef\u001B[39;00m \u001B[38;5;21m__init__\u001B[39m(\u001B[38;5;28mself\u001B[39m, x, y, hue, data, order, hue_order,\n\u001B[0;32m   1580\u001B[0m              estimator, ci, n_boot, units, seed,\n\u001B[0;32m   1581\u001B[0m              orient, color, palette, saturation, errcolor,\n\u001B[0;32m   1582\u001B[0m              errwidth, capsize, dodge):\n\u001B[0;32m   1583\u001B[0m     \u001B[38;5;124;03m\"\"\"Initialize the plotter.\"\"\"\u001B[39;00m\n\u001B[1;32m-> 1584\u001B[0m     \u001B[38;5;28;43mself\u001B[39;49m\u001B[38;5;241;43m.\u001B[39;49m\u001B[43mestablish_variables\u001B[49m\u001B[43m(\u001B[49m\u001B[43mx\u001B[49m\u001B[43m,\u001B[49m\u001B[43m \u001B[49m\u001B[43my\u001B[49m\u001B[43m,\u001B[49m\u001B[43m \u001B[49m\u001B[43mhue\u001B[49m\u001B[43m,\u001B[49m\u001B[43m \u001B[49m\u001B[43mdata\u001B[49m\u001B[43m,\u001B[49m\u001B[43m \u001B[49m\u001B[43morient\u001B[49m\u001B[43m,\u001B[49m\n\u001B[0;32m   1585\u001B[0m \u001B[43m                             \u001B[49m\u001B[43morder\u001B[49m\u001B[43m,\u001B[49m\u001B[43m \u001B[49m\u001B[43mhue_order\u001B[49m\u001B[43m,\u001B[49m\u001B[43m \u001B[49m\u001B[43munits\u001B[49m\u001B[43m)\u001B[49m\n\u001B[0;32m   1586\u001B[0m     \u001B[38;5;28mself\u001B[39m\u001B[38;5;241m.\u001B[39mestablish_colors(color, palette, saturation)\n\u001B[0;32m   1587\u001B[0m     \u001B[38;5;28mself\u001B[39m\u001B[38;5;241m.\u001B[39mestimate_statistic(estimator, ci, n_boot, seed)\n",
      "File \u001B[1;32mc:\\users\\jpc10\\ideaprojects\\untitled\\venv\\lib\\site-packages\\seaborn\\categorical.py:156\u001B[0m, in \u001B[0;36m_CategoricalPlotter.establish_variables\u001B[1;34m(self, x, y, hue, data, orient, order, hue_order, units)\u001B[0m\n\u001B[0;32m    153\u001B[0m         \u001B[38;5;28;01mraise\u001B[39;00m \u001B[38;5;167;01mValueError\u001B[39;00m(err)\n\u001B[0;32m    155\u001B[0m \u001B[38;5;66;03m# Figure out the plotting orientation\u001B[39;00m\n\u001B[1;32m--> 156\u001B[0m orient \u001B[38;5;241m=\u001B[39m \u001B[43minfer_orient\u001B[49m\u001B[43m(\u001B[49m\n\u001B[0;32m    157\u001B[0m \u001B[43m    \u001B[49m\u001B[43mx\u001B[49m\u001B[43m,\u001B[49m\u001B[43m \u001B[49m\u001B[43my\u001B[49m\u001B[43m,\u001B[49m\u001B[43m \u001B[49m\u001B[43morient\u001B[49m\u001B[43m,\u001B[49m\u001B[43m \u001B[49m\u001B[43mrequire_numeric\u001B[49m\u001B[38;5;241;43m=\u001B[39;49m\u001B[38;5;28;43mself\u001B[39;49m\u001B[38;5;241;43m.\u001B[39;49m\u001B[43mrequire_numeric\u001B[49m\n\u001B[0;32m    158\u001B[0m \u001B[43m\u001B[49m\u001B[43m)\u001B[49m\n\u001B[0;32m    160\u001B[0m \u001B[38;5;66;03m# Option 2a:\u001B[39;00m\n\u001B[0;32m    161\u001B[0m \u001B[38;5;66;03m# We are plotting a single set of data\u001B[39;00m\n\u001B[0;32m    162\u001B[0m \u001B[38;5;66;03m# ------------------------------------\u001B[39;00m\n\u001B[0;32m    163\u001B[0m \u001B[38;5;28;01mif\u001B[39;00m x \u001B[38;5;129;01mis\u001B[39;00m \u001B[38;5;28;01mNone\u001B[39;00m \u001B[38;5;129;01mor\u001B[39;00m y \u001B[38;5;129;01mis\u001B[39;00m \u001B[38;5;28;01mNone\u001B[39;00m:\n\u001B[0;32m    164\u001B[0m \n\u001B[0;32m    165\u001B[0m     \u001B[38;5;66;03m# Determine where the data are\u001B[39;00m\n",
      "File \u001B[1;32mc:\\users\\jpc10\\ideaprojects\\untitled\\venv\\lib\\site-packages\\seaborn\\_core.py:1352\u001B[0m, in \u001B[0;36minfer_orient\u001B[1;34m(x, y, orient, require_numeric)\u001B[0m\n\u001B[0;32m   1350\u001B[0m \u001B[38;5;28;01melif\u001B[39;00m require_numeric \u001B[38;5;129;01mand\u001B[39;00m \u001B[38;5;124m\"\u001B[39m\u001B[38;5;124mnumeric\u001B[39m\u001B[38;5;124m\"\u001B[39m \u001B[38;5;129;01mnot\u001B[39;00m \u001B[38;5;129;01min\u001B[39;00m (x_type, y_type):\n\u001B[0;32m   1351\u001B[0m     err \u001B[38;5;241m=\u001B[39m \u001B[38;5;124m\"\u001B[39m\u001B[38;5;124mNeither the `x` nor `y` variable appears to be numeric.\u001B[39m\u001B[38;5;124m\"\u001B[39m\n\u001B[1;32m-> 1352\u001B[0m     \u001B[38;5;28;01mraise\u001B[39;00m \u001B[38;5;167;01mTypeError\u001B[39;00m(err)\n\u001B[0;32m   1354\u001B[0m \u001B[38;5;28;01melse\u001B[39;00m:\n\u001B[0;32m   1355\u001B[0m     \u001B[38;5;28;01mreturn\u001B[39;00m \u001B[38;5;124m\"\u001B[39m\u001B[38;5;124mv\u001B[39m\u001B[38;5;124m\"\u001B[39m\n",
      "\u001B[1;31mTypeError\u001B[0m: Neither the `x` nor `y` variable appears to be numeric."
     ]
    }
   ],
   "source": [
    "sns.barplot(data=new_state_df, x=\"행정구역별(시도)\", y=\"중국\")\n",
    "plt.show()"
   ],
   "metadata": {
    "collapsed": false,
    "pycharm": {
     "name": "#%%\n"
    }
   }
  },
  {
   "cell_type": "code",
   "execution_count": null,
   "outputs": [],
   "source": [],
   "metadata": {
    "collapsed": false,
    "pycharm": {
     "name": "#%%\n"
    }
   }
  }
 ],
 "metadata": {
  "kernelspec": {
   "display_name": "Python 3",
   "language": "python",
   "name": "python3"
  },
  "language_info": {
   "codemirror_mode": {
    "name": "ipython",
    "version": 2
   },
   "file_extension": ".py",
   "mimetype": "text/x-python",
   "name": "python",
   "nbconvert_exporter": "python",
   "pygments_lexer": "ipython2",
   "version": "2.7.6"
  }
 },
 "nbformat": 4,
 "nbformat_minor": 0
}