{
 "cells": [
  {
   "cell_type": "code",
   "execution_count": 124,
   "metadata": {
    "collapsed": true
   },
   "outputs": [
    {
     "data": {
      "text/plain": "       국적별      시점        계       남자       여자\n0       몽골    2013     4331     2553     1778\n1       미국    2013    26622    12833    13789\n2      베트남    2013    22248     7811    14437\n3     스리랑카    2013     5274     5064      210\n4   우즈베키스탄    2013    12333     8283     4050\n..     ...     ...      ...      ...      ...\n77      일본    2021     6208     1334     4874\n78      중국    2021    95014    47937    47077\n79      태국    2021     5194     2776     2418\n80     필리핀    2021     1858      795     1063\n81     NaN  163377  2596104  1302091  1294013\n\n[82 rows x 5 columns]",
      "text/html": "<div>\n<style scoped>\n    .dataframe tbody tr th:only-of-type {\n        vertical-align: middle;\n    }\n\n    .dataframe tbody tr th {\n        vertical-align: top;\n    }\n\n    .dataframe thead th {\n        text-align: right;\n    }\n</style>\n<table border=\"1\" class=\"dataframe\">\n  <thead>\n    <tr style=\"text-align: right;\">\n      <th></th>\n      <th>국적별</th>\n      <th>시점</th>\n      <th>계</th>\n      <th>남자</th>\n      <th>여자</th>\n    </tr>\n  </thead>\n  <tbody>\n    <tr>\n      <th>0</th>\n      <td>몽골</td>\n      <td>2013</td>\n      <td>4331</td>\n      <td>2553</td>\n      <td>1778</td>\n    </tr>\n    <tr>\n      <th>1</th>\n      <td>미국</td>\n      <td>2013</td>\n      <td>26622</td>\n      <td>12833</td>\n      <td>13789</td>\n    </tr>\n    <tr>\n      <th>2</th>\n      <td>베트남</td>\n      <td>2013</td>\n      <td>22248</td>\n      <td>7811</td>\n      <td>14437</td>\n    </tr>\n    <tr>\n      <th>3</th>\n      <td>스리랑카</td>\n      <td>2013</td>\n      <td>5274</td>\n      <td>5064</td>\n      <td>210</td>\n    </tr>\n    <tr>\n      <th>4</th>\n      <td>우즈베키스탄</td>\n      <td>2013</td>\n      <td>12333</td>\n      <td>8283</td>\n      <td>4050</td>\n    </tr>\n    <tr>\n      <th>...</th>\n      <td>...</td>\n      <td>...</td>\n      <td>...</td>\n      <td>...</td>\n      <td>...</td>\n    </tr>\n    <tr>\n      <th>77</th>\n      <td>일본</td>\n      <td>2021</td>\n      <td>6208</td>\n      <td>1334</td>\n      <td>4874</td>\n    </tr>\n    <tr>\n      <th>78</th>\n      <td>중국</td>\n      <td>2021</td>\n      <td>95014</td>\n      <td>47937</td>\n      <td>47077</td>\n    </tr>\n    <tr>\n      <th>79</th>\n      <td>태국</td>\n      <td>2021</td>\n      <td>5194</td>\n      <td>2776</td>\n      <td>2418</td>\n    </tr>\n    <tr>\n      <th>80</th>\n      <td>필리핀</td>\n      <td>2021</td>\n      <td>1858</td>\n      <td>795</td>\n      <td>1063</td>\n    </tr>\n    <tr>\n      <th>81</th>\n      <td>NaN</td>\n      <td>163377</td>\n      <td>2596104</td>\n      <td>1302091</td>\n      <td>1294013</td>\n    </tr>\n  </tbody>\n</table>\n<p>82 rows × 5 columns</p>\n</div>"
     },
     "execution_count": 124,
     "metadata": {},
     "output_type": "execute_result"
    }
   ],
   "source": [
    "import pandas as pd\n",
    "import numpy as np\n",
    "\n",
    "year=pd.read_csv('./data/외국인 거주 연 기준.csv', encoding='cp949', sep='\\t')\n",
    "year\n"
   ]
  },
  {
   "cell_type": "markdown",
   "source": [
    "## 기본 df 정보"
   ],
   "metadata": {
    "collapsed": false,
    "pycharm": {
     "name": "#%% md\n"
    }
   }
  },
  {
   "cell_type": "code",
   "execution_count": 125,
   "outputs": [
    {
     "data": {
      "text/plain": "Index(['국적별', '시점', '계', '남자', '여자'], dtype='object')"
     },
     "execution_count": 125,
     "metadata": {},
     "output_type": "execute_result"
    }
   ],
   "source": [
    "year.columns"
   ],
   "metadata": {
    "collapsed": false,
    "pycharm": {
     "name": "#%%\n"
    }
   }
  },
  {
   "cell_type": "code",
   "execution_count": 126,
   "outputs": [
    {
     "name": "stdout",
     "output_type": "stream",
     "text": [
      "<class 'pandas.core.frame.DataFrame'>\n",
      "RangeIndex: 82 entries, 0 to 81\n",
      "Data columns (total 5 columns):\n",
      " #   Column  Non-Null Count  Dtype \n",
      "---  ------  --------------  ----- \n",
      " 0   국적별     81 non-null     object\n",
      " 1   시점      82 non-null     int64 \n",
      " 2   계       82 non-null     int64 \n",
      " 3   남자      82 non-null     int64 \n",
      " 4   여자      82 non-null     int64 \n",
      "dtypes: int64(4), object(1)\n",
      "memory usage: 3.3+ KB\n"
     ]
    }
   ],
   "source": [
    "year.info()"
   ],
   "metadata": {
    "collapsed": false,
    "pycharm": {
     "name": "#%%\n"
    }
   }
  },
  {
   "cell_type": "code",
   "execution_count": 127,
   "outputs": [
    {
     "data": {
      "text/plain": "      국적별    시점      계     남자     여자\n0      몽골  2013   4331   2553   1778\n1      미국  2013  26622  12833  13789\n2     베트남  2013  22248   7811  14437\n3    스리랑카  2013   5274   5064    210\n4  우즈베키스탄  2013  12333   8283   4050",
      "text/html": "<div>\n<style scoped>\n    .dataframe tbody tr th:only-of-type {\n        vertical-align: middle;\n    }\n\n    .dataframe tbody tr th {\n        vertical-align: top;\n    }\n\n    .dataframe thead th {\n        text-align: right;\n    }\n</style>\n<table border=\"1\" class=\"dataframe\">\n  <thead>\n    <tr style=\"text-align: right;\">\n      <th></th>\n      <th>국적별</th>\n      <th>시점</th>\n      <th>계</th>\n      <th>남자</th>\n      <th>여자</th>\n    </tr>\n  </thead>\n  <tbody>\n    <tr>\n      <th>0</th>\n      <td>몽골</td>\n      <td>2013</td>\n      <td>4331</td>\n      <td>2553</td>\n      <td>1778</td>\n    </tr>\n    <tr>\n      <th>1</th>\n      <td>미국</td>\n      <td>2013</td>\n      <td>26622</td>\n      <td>12833</td>\n      <td>13789</td>\n    </tr>\n    <tr>\n      <th>2</th>\n      <td>베트남</td>\n      <td>2013</td>\n      <td>22248</td>\n      <td>7811</td>\n      <td>14437</td>\n    </tr>\n    <tr>\n      <th>3</th>\n      <td>스리랑카</td>\n      <td>2013</td>\n      <td>5274</td>\n      <td>5064</td>\n      <td>210</td>\n    </tr>\n    <tr>\n      <th>4</th>\n      <td>우즈베키스탄</td>\n      <td>2013</td>\n      <td>12333</td>\n      <td>8283</td>\n      <td>4050</td>\n    </tr>\n  </tbody>\n</table>\n</div>"
     },
     "execution_count": 127,
     "metadata": {},
     "output_type": "execute_result"
    }
   ],
   "source": [
    "year.head()"
   ],
   "metadata": {
    "collapsed": false,
    "pycharm": {
     "name": "#%%\n"
    }
   }
  },
  {
   "cell_type": "code",
   "execution_count": 128,
   "outputs": [
    {
     "data": {
      "text/plain": "(82, 5)"
     },
     "execution_count": 128,
     "metadata": {},
     "output_type": "execute_result"
    }
   ],
   "source": [
    "year.shape"
   ],
   "metadata": {
    "collapsed": false,
    "pycharm": {
     "name": "#%%\n"
    }
   }
  },
  {
   "cell_type": "code",
   "execution_count": 129,
   "outputs": [
    {
     "data": {
      "text/plain": "국적별    81\n시점     82\n계      82\n남자     82\n여자     82\ndtype: int64"
     },
     "execution_count": 129,
     "metadata": {},
     "output_type": "execute_result"
    }
   ],
   "source": [
    "year.count()"
   ],
   "metadata": {
    "collapsed": false,
    "pycharm": {
     "name": "#%%\n"
    }
   }
  },
  {
   "cell_type": "markdown",
   "source": [
    "## 시점별 범죄건수"
   ],
   "metadata": {
    "collapsed": false,
    "pycharm": {
     "name": "#%% md\n"
    }
   }
  },
  {
   "cell_type": "code",
   "execution_count": 130,
   "outputs": [
    {
     "data": {
      "text/plain": "      국적별    시점       계     남자     여자\n0      몽골  2013    4331   2553   1778\n1      미국  2013   26622  12833  13789\n2     베트남  2013   22248   7811  14437\n3    스리랑카  2013    5274   5064    210\n4  우즈베키스탄  2013   12333   8283   4050\n5      일본  2013    5891   2084   3807\n6      중국  2013  178606  92777  85829\n7      태국  2013   18335  11371   6964\n8     필리핀  2013   11963   6589   5374",
      "text/html": "<div>\n<style scoped>\n    .dataframe tbody tr th:only-of-type {\n        vertical-align: middle;\n    }\n\n    .dataframe tbody tr th {\n        vertical-align: top;\n    }\n\n    .dataframe thead th {\n        text-align: right;\n    }\n</style>\n<table border=\"1\" class=\"dataframe\">\n  <thead>\n    <tr style=\"text-align: right;\">\n      <th></th>\n      <th>국적별</th>\n      <th>시점</th>\n      <th>계</th>\n      <th>남자</th>\n      <th>여자</th>\n    </tr>\n  </thead>\n  <tbody>\n    <tr>\n      <th>0</th>\n      <td>몽골</td>\n      <td>2013</td>\n      <td>4331</td>\n      <td>2553</td>\n      <td>1778</td>\n    </tr>\n    <tr>\n      <th>1</th>\n      <td>미국</td>\n      <td>2013</td>\n      <td>26622</td>\n      <td>12833</td>\n      <td>13789</td>\n    </tr>\n    <tr>\n      <th>2</th>\n      <td>베트남</td>\n      <td>2013</td>\n      <td>22248</td>\n      <td>7811</td>\n      <td>14437</td>\n    </tr>\n    <tr>\n      <th>3</th>\n      <td>스리랑카</td>\n      <td>2013</td>\n      <td>5274</td>\n      <td>5064</td>\n      <td>210</td>\n    </tr>\n    <tr>\n      <th>4</th>\n      <td>우즈베키스탄</td>\n      <td>2013</td>\n      <td>12333</td>\n      <td>8283</td>\n      <td>4050</td>\n    </tr>\n    <tr>\n      <th>5</th>\n      <td>일본</td>\n      <td>2013</td>\n      <td>5891</td>\n      <td>2084</td>\n      <td>3807</td>\n    </tr>\n    <tr>\n      <th>6</th>\n      <td>중국</td>\n      <td>2013</td>\n      <td>178606</td>\n      <td>92777</td>\n      <td>85829</td>\n    </tr>\n    <tr>\n      <th>7</th>\n      <td>태국</td>\n      <td>2013</td>\n      <td>18335</td>\n      <td>11371</td>\n      <td>6964</td>\n    </tr>\n    <tr>\n      <th>8</th>\n      <td>필리핀</td>\n      <td>2013</td>\n      <td>11963</td>\n      <td>6589</td>\n      <td>5374</td>\n    </tr>\n  </tbody>\n</table>\n</div>"
     },
     "execution_count": 130,
     "metadata": {},
     "output_type": "execute_result"
    }
   ],
   "source": [
    "#시점별 2013\n",
    "y_2013=year[year['시점']==2013]\n",
    "y_2013"
   ],
   "metadata": {
    "collapsed": false,
    "pycharm": {
     "name": "#%%\n"
    }
   }
  },
  {
   "cell_type": "code",
   "execution_count": 131,
   "outputs": [
    {
     "data": {
      "text/plain": "       국적별    시점       계     남자     여자\n9       몽골  2014    3966   2150   1816\n10      미국  2014   24500  11603  12897\n11     베트남  2014   28012  13477  14535\n12    스리랑카  2014    4836   4633    203\n13  우즈베키스탄  2014   12920   8528   4392\n14      일본  2014    4736   1368   3368\n15      중국  2014  192858  97151  95707\n16      태국  2014   48326  27422  20904\n17     필리핀  2014   10717   5837   4880",
      "text/html": "<div>\n<style scoped>\n    .dataframe tbody tr th:only-of-type {\n        vertical-align: middle;\n    }\n\n    .dataframe tbody tr th {\n        vertical-align: top;\n    }\n\n    .dataframe thead th {\n        text-align: right;\n    }\n</style>\n<table border=\"1\" class=\"dataframe\">\n  <thead>\n    <tr style=\"text-align: right;\">\n      <th></th>\n      <th>국적별</th>\n      <th>시점</th>\n      <th>계</th>\n      <th>남자</th>\n      <th>여자</th>\n    </tr>\n  </thead>\n  <tbody>\n    <tr>\n      <th>9</th>\n      <td>몽골</td>\n      <td>2014</td>\n      <td>3966</td>\n      <td>2150</td>\n      <td>1816</td>\n    </tr>\n    <tr>\n      <th>10</th>\n      <td>미국</td>\n      <td>2014</td>\n      <td>24500</td>\n      <td>11603</td>\n      <td>12897</td>\n    </tr>\n    <tr>\n      <th>11</th>\n      <td>베트남</td>\n      <td>2014</td>\n      <td>28012</td>\n      <td>13477</td>\n      <td>14535</td>\n    </tr>\n    <tr>\n      <th>12</th>\n      <td>스리랑카</td>\n      <td>2014</td>\n      <td>4836</td>\n      <td>4633</td>\n      <td>203</td>\n    </tr>\n    <tr>\n      <th>13</th>\n      <td>우즈베키스탄</td>\n      <td>2014</td>\n      <td>12920</td>\n      <td>8528</td>\n      <td>4392</td>\n    </tr>\n    <tr>\n      <th>14</th>\n      <td>일본</td>\n      <td>2014</td>\n      <td>4736</td>\n      <td>1368</td>\n      <td>3368</td>\n    </tr>\n    <tr>\n      <th>15</th>\n      <td>중국</td>\n      <td>2014</td>\n      <td>192858</td>\n      <td>97151</td>\n      <td>95707</td>\n    </tr>\n    <tr>\n      <th>16</th>\n      <td>태국</td>\n      <td>2014</td>\n      <td>48326</td>\n      <td>27422</td>\n      <td>20904</td>\n    </tr>\n    <tr>\n      <th>17</th>\n      <td>필리핀</td>\n      <td>2014</td>\n      <td>10717</td>\n      <td>5837</td>\n      <td>4880</td>\n    </tr>\n  </tbody>\n</table>\n</div>"
     },
     "execution_count": 131,
     "metadata": {},
     "output_type": "execute_result"
    }
   ],
   "source": [
    "#시점별 2014\n",
    "y_2014=year[year['시점']==2014]\n",
    "y_2014"
   ],
   "metadata": {
    "collapsed": false,
    "pycharm": {
     "name": "#%%\n"
    }
   }
  },
  {
   "cell_type": "code",
   "execution_count": 132,
   "outputs": [
    {
     "data": {
      "text/plain": "       국적별    시점       계     남자     여자\n18      몽골  2015    8286   4148   4138\n19      미국  2015   22741  10546  12195\n20     베트남  2015   30244  14099  16145\n21    스리랑카  2015    5462   5250    212\n22  우즈베키스탄  2015   14246   9188   5058\n23      일본  2015    4589   1202   3387\n24      중국  2015  177001  87569  89432\n25      태국  2015   20122   9103  11019\n26     필리핀  2015    9867   5532   4335",
      "text/html": "<div>\n<style scoped>\n    .dataframe tbody tr th:only-of-type {\n        vertical-align: middle;\n    }\n\n    .dataframe tbody tr th {\n        vertical-align: top;\n    }\n\n    .dataframe thead th {\n        text-align: right;\n    }\n</style>\n<table border=\"1\" class=\"dataframe\">\n  <thead>\n    <tr style=\"text-align: right;\">\n      <th></th>\n      <th>국적별</th>\n      <th>시점</th>\n      <th>계</th>\n      <th>남자</th>\n      <th>여자</th>\n    </tr>\n  </thead>\n  <tbody>\n    <tr>\n      <th>18</th>\n      <td>몽골</td>\n      <td>2015</td>\n      <td>8286</td>\n      <td>4148</td>\n      <td>4138</td>\n    </tr>\n    <tr>\n      <th>19</th>\n      <td>미국</td>\n      <td>2015</td>\n      <td>22741</td>\n      <td>10546</td>\n      <td>12195</td>\n    </tr>\n    <tr>\n      <th>20</th>\n      <td>베트남</td>\n      <td>2015</td>\n      <td>30244</td>\n      <td>14099</td>\n      <td>16145</td>\n    </tr>\n    <tr>\n      <th>21</th>\n      <td>스리랑카</td>\n      <td>2015</td>\n      <td>5462</td>\n      <td>5250</td>\n      <td>212</td>\n    </tr>\n    <tr>\n      <th>22</th>\n      <td>우즈베키스탄</td>\n      <td>2015</td>\n      <td>14246</td>\n      <td>9188</td>\n      <td>5058</td>\n    </tr>\n    <tr>\n      <th>23</th>\n      <td>일본</td>\n      <td>2015</td>\n      <td>4589</td>\n      <td>1202</td>\n      <td>3387</td>\n    </tr>\n    <tr>\n      <th>24</th>\n      <td>중국</td>\n      <td>2015</td>\n      <td>177001</td>\n      <td>87569</td>\n      <td>89432</td>\n    </tr>\n    <tr>\n      <th>25</th>\n      <td>태국</td>\n      <td>2015</td>\n      <td>20122</td>\n      <td>9103</td>\n      <td>11019</td>\n    </tr>\n    <tr>\n      <th>26</th>\n      <td>필리핀</td>\n      <td>2015</td>\n      <td>9867</td>\n      <td>5532</td>\n      <td>4335</td>\n    </tr>\n  </tbody>\n</table>\n</div>"
     },
     "execution_count": 132,
     "metadata": {},
     "output_type": "execute_result"
    }
   ],
   "source": [
    "#시점별 2015\n",
    "y_2015=year[year['시점']==2015]\n",
    "y_2015"
   ],
   "metadata": {
    "collapsed": false,
    "pycharm": {
     "name": "#%%\n"
    }
   }
  },
  {
   "cell_type": "code",
   "execution_count": 133,
   "outputs": [
    {
     "data": {
      "text/plain": "       국적별    시점       계     남자     여자\n27      몽골  2016    8155   3845   4310\n28      미국  2016   21771  10147  11624\n29     베트남  2016   40099  19397  20702\n30    스리랑카  2016    7093   6892    201\n31  우즈베키스탄  2016   16151   9918   6233\n32      일본  2016    4662   1225   3437\n33      중국  2016  165494  81136  84358\n34      태국  2016   28457  12452  16005\n35     필리핀  2016    9530   5495   4035",
      "text/html": "<div>\n<style scoped>\n    .dataframe tbody tr th:only-of-type {\n        vertical-align: middle;\n    }\n\n    .dataframe tbody tr th {\n        vertical-align: top;\n    }\n\n    .dataframe thead th {\n        text-align: right;\n    }\n</style>\n<table border=\"1\" class=\"dataframe\">\n  <thead>\n    <tr style=\"text-align: right;\">\n      <th></th>\n      <th>국적별</th>\n      <th>시점</th>\n      <th>계</th>\n      <th>남자</th>\n      <th>여자</th>\n    </tr>\n  </thead>\n  <tbody>\n    <tr>\n      <th>27</th>\n      <td>몽골</td>\n      <td>2016</td>\n      <td>8155</td>\n      <td>3845</td>\n      <td>4310</td>\n    </tr>\n    <tr>\n      <th>28</th>\n      <td>미국</td>\n      <td>2016</td>\n      <td>21771</td>\n      <td>10147</td>\n      <td>11624</td>\n    </tr>\n    <tr>\n      <th>29</th>\n      <td>베트남</td>\n      <td>2016</td>\n      <td>40099</td>\n      <td>19397</td>\n      <td>20702</td>\n    </tr>\n    <tr>\n      <th>30</th>\n      <td>스리랑카</td>\n      <td>2016</td>\n      <td>7093</td>\n      <td>6892</td>\n      <td>201</td>\n    </tr>\n    <tr>\n      <th>31</th>\n      <td>우즈베키스탄</td>\n      <td>2016</td>\n      <td>16151</td>\n      <td>9918</td>\n      <td>6233</td>\n    </tr>\n    <tr>\n      <th>32</th>\n      <td>일본</td>\n      <td>2016</td>\n      <td>4662</td>\n      <td>1225</td>\n      <td>3437</td>\n    </tr>\n    <tr>\n      <th>33</th>\n      <td>중국</td>\n      <td>2016</td>\n      <td>165494</td>\n      <td>81136</td>\n      <td>84358</td>\n    </tr>\n    <tr>\n      <th>34</th>\n      <td>태국</td>\n      <td>2016</td>\n      <td>28457</td>\n      <td>12452</td>\n      <td>16005</td>\n    </tr>\n    <tr>\n      <th>35</th>\n      <td>필리핀</td>\n      <td>2016</td>\n      <td>9530</td>\n      <td>5495</td>\n      <td>4035</td>\n    </tr>\n  </tbody>\n</table>\n</div>"
     },
     "execution_count": 133,
     "metadata": {},
     "output_type": "execute_result"
    }
   ],
   "source": [
    "#시점별 2016\n",
    "y_2016=year[year['시점']==2016]\n",
    "y_2016"
   ],
   "metadata": {
    "collapsed": false,
    "pycharm": {
     "name": "#%%\n"
    }
   }
  },
  {
   "cell_type": "code",
   "execution_count": 134,
   "outputs": [
    {
     "data": {
      "text/plain": "       국적별    시점       계     남자     여자\n36      몽골  2017   11781   5902   5879\n37      미국  2017   19848   9095  10753\n38     베트남  2017   47964  23822  24142\n39    스리랑카  2017    3878   3705    173\n40  우즈베키스탄  2017   18486  11833   6653\n41      일본  2017    4469   1033   3436\n42      중국  2017  156848  79489  77359\n43      태국  2017   71506  33221  38285\n44     필리핀  2017    8988   5185   3803",
      "text/html": "<div>\n<style scoped>\n    .dataframe tbody tr th:only-of-type {\n        vertical-align: middle;\n    }\n\n    .dataframe tbody tr th {\n        vertical-align: top;\n    }\n\n    .dataframe thead th {\n        text-align: right;\n    }\n</style>\n<table border=\"1\" class=\"dataframe\">\n  <thead>\n    <tr style=\"text-align: right;\">\n      <th></th>\n      <th>국적별</th>\n      <th>시점</th>\n      <th>계</th>\n      <th>남자</th>\n      <th>여자</th>\n    </tr>\n  </thead>\n  <tbody>\n    <tr>\n      <th>36</th>\n      <td>몽골</td>\n      <td>2017</td>\n      <td>11781</td>\n      <td>5902</td>\n      <td>5879</td>\n    </tr>\n    <tr>\n      <th>37</th>\n      <td>미국</td>\n      <td>2017</td>\n      <td>19848</td>\n      <td>9095</td>\n      <td>10753</td>\n    </tr>\n    <tr>\n      <th>38</th>\n      <td>베트남</td>\n      <td>2017</td>\n      <td>47964</td>\n      <td>23822</td>\n      <td>24142</td>\n    </tr>\n    <tr>\n      <th>39</th>\n      <td>스리랑카</td>\n      <td>2017</td>\n      <td>3878</td>\n      <td>3705</td>\n      <td>173</td>\n    </tr>\n    <tr>\n      <th>40</th>\n      <td>우즈베키스탄</td>\n      <td>2017</td>\n      <td>18486</td>\n      <td>11833</td>\n      <td>6653</td>\n    </tr>\n    <tr>\n      <th>41</th>\n      <td>일본</td>\n      <td>2017</td>\n      <td>4469</td>\n      <td>1033</td>\n      <td>3436</td>\n    </tr>\n    <tr>\n      <th>42</th>\n      <td>중국</td>\n      <td>2017</td>\n      <td>156848</td>\n      <td>79489</td>\n      <td>77359</td>\n    </tr>\n    <tr>\n      <th>43</th>\n      <td>태국</td>\n      <td>2017</td>\n      <td>71506</td>\n      <td>33221</td>\n      <td>38285</td>\n    </tr>\n    <tr>\n      <th>44</th>\n      <td>필리핀</td>\n      <td>2017</td>\n      <td>8988</td>\n      <td>5185</td>\n      <td>3803</td>\n    </tr>\n  </tbody>\n</table>\n</div>"
     },
     "execution_count": 134,
     "metadata": {},
     "output_type": "execute_result"
    }
   ],
   "source": [
    "#시점별 2017\n",
    "y_2017=year[year['시점']==2017]\n",
    "y_2017"
   ],
   "metadata": {
    "collapsed": false,
    "pycharm": {
     "name": "#%%\n"
    }
   }
  },
  {
   "cell_type": "code",
   "execution_count": 135,
   "outputs": [
    {
     "data": {
      "text/plain": "       국적별    시점       계     남자     여자\n45      몽골  2018   10166   4957   5209\n46      미국  2018   21171   9461  11710\n47     베트남  2018   55992  27922  28070\n48    스리랑카  2018    3913   3696    217\n49  우즈베키스탄  2018   18818  12214   6604\n50      일본  2018    5222   1199   4023\n51      중국  2018  169336  86358  82978\n52      태국  2018   80349  36886  43463\n53     필리핀  2018   10053   5888   4165",
      "text/html": "<div>\n<style scoped>\n    .dataframe tbody tr th:only-of-type {\n        vertical-align: middle;\n    }\n\n    .dataframe tbody tr th {\n        vertical-align: top;\n    }\n\n    .dataframe thead th {\n        text-align: right;\n    }\n</style>\n<table border=\"1\" class=\"dataframe\">\n  <thead>\n    <tr style=\"text-align: right;\">\n      <th></th>\n      <th>국적별</th>\n      <th>시점</th>\n      <th>계</th>\n      <th>남자</th>\n      <th>여자</th>\n    </tr>\n  </thead>\n  <tbody>\n    <tr>\n      <th>45</th>\n      <td>몽골</td>\n      <td>2018</td>\n      <td>10166</td>\n      <td>4957</td>\n      <td>5209</td>\n    </tr>\n    <tr>\n      <th>46</th>\n      <td>미국</td>\n      <td>2018</td>\n      <td>21171</td>\n      <td>9461</td>\n      <td>11710</td>\n    </tr>\n    <tr>\n      <th>47</th>\n      <td>베트남</td>\n      <td>2018</td>\n      <td>55992</td>\n      <td>27922</td>\n      <td>28070</td>\n    </tr>\n    <tr>\n      <th>48</th>\n      <td>스리랑카</td>\n      <td>2018</td>\n      <td>3913</td>\n      <td>3696</td>\n      <td>217</td>\n    </tr>\n    <tr>\n      <th>49</th>\n      <td>우즈베키스탄</td>\n      <td>2018</td>\n      <td>18818</td>\n      <td>12214</td>\n      <td>6604</td>\n    </tr>\n    <tr>\n      <th>50</th>\n      <td>일본</td>\n      <td>2018</td>\n      <td>5222</td>\n      <td>1199</td>\n      <td>4023</td>\n    </tr>\n    <tr>\n      <th>51</th>\n      <td>중국</td>\n      <td>2018</td>\n      <td>169336</td>\n      <td>86358</td>\n      <td>82978</td>\n    </tr>\n    <tr>\n      <th>52</th>\n      <td>태국</td>\n      <td>2018</td>\n      <td>80349</td>\n      <td>36886</td>\n      <td>43463</td>\n    </tr>\n    <tr>\n      <th>53</th>\n      <td>필리핀</td>\n      <td>2018</td>\n      <td>10053</td>\n      <td>5888</td>\n      <td>4165</td>\n    </tr>\n  </tbody>\n</table>\n</div>"
     },
     "execution_count": 135,
     "metadata": {},
     "output_type": "execute_result"
    }
   ],
   "source": [
    "#시점별 2018\n",
    "y_2018=year[year['시점']==2018]\n",
    "y_2018"
   ],
   "metadata": {
    "collapsed": false,
    "pycharm": {
     "name": "#%%\n"
    }
   }
  },
  {
   "cell_type": "code",
   "execution_count": 136,
   "outputs": [
    {
     "data": {
      "text/plain": "       국적별    시점       계     남자     여자\n54      몽골  2019    8715   4315   4400\n55      미국  2019   20839   9395  11444\n56     베트남  2019   61344  32214  29130\n57    스리랑카  2019    4052   3869    183\n58  우즈베키스탄  2019   25961  16298   9663\n59      일본  2019    5058   1039   4019\n60      중국  2019  138653  66759  71894\n61      태국  2019   53290  20325  32965\n62     필리핀  2019    9149   5516   3633",
      "text/html": "<div>\n<style scoped>\n    .dataframe tbody tr th:only-of-type {\n        vertical-align: middle;\n    }\n\n    .dataframe tbody tr th {\n        vertical-align: top;\n    }\n\n    .dataframe thead th {\n        text-align: right;\n    }\n</style>\n<table border=\"1\" class=\"dataframe\">\n  <thead>\n    <tr style=\"text-align: right;\">\n      <th></th>\n      <th>국적별</th>\n      <th>시점</th>\n      <th>계</th>\n      <th>남자</th>\n      <th>여자</th>\n    </tr>\n  </thead>\n  <tbody>\n    <tr>\n      <th>54</th>\n      <td>몽골</td>\n      <td>2019</td>\n      <td>8715</td>\n      <td>4315</td>\n      <td>4400</td>\n    </tr>\n    <tr>\n      <th>55</th>\n      <td>미국</td>\n      <td>2019</td>\n      <td>20839</td>\n      <td>9395</td>\n      <td>11444</td>\n    </tr>\n    <tr>\n      <th>56</th>\n      <td>베트남</td>\n      <td>2019</td>\n      <td>61344</td>\n      <td>32214</td>\n      <td>29130</td>\n    </tr>\n    <tr>\n      <th>57</th>\n      <td>스리랑카</td>\n      <td>2019</td>\n      <td>4052</td>\n      <td>3869</td>\n      <td>183</td>\n    </tr>\n    <tr>\n      <th>58</th>\n      <td>우즈베키스탄</td>\n      <td>2019</td>\n      <td>25961</td>\n      <td>16298</td>\n      <td>9663</td>\n    </tr>\n    <tr>\n      <th>59</th>\n      <td>일본</td>\n      <td>2019</td>\n      <td>5058</td>\n      <td>1039</td>\n      <td>4019</td>\n    </tr>\n    <tr>\n      <th>60</th>\n      <td>중국</td>\n      <td>2019</td>\n      <td>138653</td>\n      <td>66759</td>\n      <td>71894</td>\n    </tr>\n    <tr>\n      <th>61</th>\n      <td>태국</td>\n      <td>2019</td>\n      <td>53290</td>\n      <td>20325</td>\n      <td>32965</td>\n    </tr>\n    <tr>\n      <th>62</th>\n      <td>필리핀</td>\n      <td>2019</td>\n      <td>9149</td>\n      <td>5516</td>\n      <td>3633</td>\n    </tr>\n  </tbody>\n</table>\n</div>"
     },
     "execution_count": 136,
     "metadata": {},
     "output_type": "execute_result"
    }
   ],
   "source": [
    "#시점별 2019\n",
    "y_2019=year[year['시점']==2019]\n",
    "y_2019"
   ],
   "metadata": {
    "collapsed": false,
    "pycharm": {
     "name": "#%%\n"
    }
   }
  },
  {
   "cell_type": "code",
   "execution_count": 137,
   "outputs": [
    {
     "data": {
      "text/plain": "       국적별    시점      계     남자     여자\n63      몽골  2020   7122   3214   3908\n64      미국  2020  21296  10088  11208\n65     베트남  2020  28005  10720  17285\n66    스리랑카  2020   1188   1091     97\n67  우즈베키스탄  2020   8012   5113   2899\n68      일본  2020   4546   1332   3214\n69      중국  2020  96256  48167  48089\n70      태국  2020   8693   2230   6463\n71     필리핀  2020   2939   1262   1677",
      "text/html": "<div>\n<style scoped>\n    .dataframe tbody tr th:only-of-type {\n        vertical-align: middle;\n    }\n\n    .dataframe tbody tr th {\n        vertical-align: top;\n    }\n\n    .dataframe thead th {\n        text-align: right;\n    }\n</style>\n<table border=\"1\" class=\"dataframe\">\n  <thead>\n    <tr style=\"text-align: right;\">\n      <th></th>\n      <th>국적별</th>\n      <th>시점</th>\n      <th>계</th>\n      <th>남자</th>\n      <th>여자</th>\n    </tr>\n  </thead>\n  <tbody>\n    <tr>\n      <th>63</th>\n      <td>몽골</td>\n      <td>2020</td>\n      <td>7122</td>\n      <td>3214</td>\n      <td>3908</td>\n    </tr>\n    <tr>\n      <th>64</th>\n      <td>미국</td>\n      <td>2020</td>\n      <td>21296</td>\n      <td>10088</td>\n      <td>11208</td>\n    </tr>\n    <tr>\n      <th>65</th>\n      <td>베트남</td>\n      <td>2020</td>\n      <td>28005</td>\n      <td>10720</td>\n      <td>17285</td>\n    </tr>\n    <tr>\n      <th>66</th>\n      <td>스리랑카</td>\n      <td>2020</td>\n      <td>1188</td>\n      <td>1091</td>\n      <td>97</td>\n    </tr>\n    <tr>\n      <th>67</th>\n      <td>우즈베키스탄</td>\n      <td>2020</td>\n      <td>8012</td>\n      <td>5113</td>\n      <td>2899</td>\n    </tr>\n    <tr>\n      <th>68</th>\n      <td>일본</td>\n      <td>2020</td>\n      <td>4546</td>\n      <td>1332</td>\n      <td>3214</td>\n    </tr>\n    <tr>\n      <th>69</th>\n      <td>중국</td>\n      <td>2020</td>\n      <td>96256</td>\n      <td>48167</td>\n      <td>48089</td>\n    </tr>\n    <tr>\n      <th>70</th>\n      <td>태국</td>\n      <td>2020</td>\n      <td>8693</td>\n      <td>2230</td>\n      <td>6463</td>\n    </tr>\n    <tr>\n      <th>71</th>\n      <td>필리핀</td>\n      <td>2020</td>\n      <td>2939</td>\n      <td>1262</td>\n      <td>1677</td>\n    </tr>\n  </tbody>\n</table>\n</div>"
     },
     "execution_count": 137,
     "metadata": {},
     "output_type": "execute_result"
    }
   ],
   "source": [
    "#시점별 2020\n",
    "y_2020=year[year['시점']==2020]\n",
    "y_2020"
   ],
   "metadata": {
    "collapsed": false,
    "pycharm": {
     "name": "#%%\n"
    }
   }
  },
  {
   "cell_type": "code",
   "execution_count": 138,
   "outputs": [
    {
     "data": {
      "text/plain": "       국적별    시점      계     남자     여자\n72      몽골  2021   3884   1619   2265\n73      미국  2021  17564   7038  10526\n74     베트남  2021  17462   7955   9507\n75    스리랑카  2021   1439   1313    126\n76  우즈베키스탄  2021  13131   7833   5298\n77      일본  2021   6208   1334   4874\n78      중국  2021  95014  47937  47077\n79      태국  2021   5194   2776   2418\n80     필리핀  2021   1858    795   1063",
      "text/html": "<div>\n<style scoped>\n    .dataframe tbody tr th:only-of-type {\n        vertical-align: middle;\n    }\n\n    .dataframe tbody tr th {\n        vertical-align: top;\n    }\n\n    .dataframe thead th {\n        text-align: right;\n    }\n</style>\n<table border=\"1\" class=\"dataframe\">\n  <thead>\n    <tr style=\"text-align: right;\">\n      <th></th>\n      <th>국적별</th>\n      <th>시점</th>\n      <th>계</th>\n      <th>남자</th>\n      <th>여자</th>\n    </tr>\n  </thead>\n  <tbody>\n    <tr>\n      <th>72</th>\n      <td>몽골</td>\n      <td>2021</td>\n      <td>3884</td>\n      <td>1619</td>\n      <td>2265</td>\n    </tr>\n    <tr>\n      <th>73</th>\n      <td>미국</td>\n      <td>2021</td>\n      <td>17564</td>\n      <td>7038</td>\n      <td>10526</td>\n    </tr>\n    <tr>\n      <th>74</th>\n      <td>베트남</td>\n      <td>2021</td>\n      <td>17462</td>\n      <td>7955</td>\n      <td>9507</td>\n    </tr>\n    <tr>\n      <th>75</th>\n      <td>스리랑카</td>\n      <td>2021</td>\n      <td>1439</td>\n      <td>1313</td>\n      <td>126</td>\n    </tr>\n    <tr>\n      <th>76</th>\n      <td>우즈베키스탄</td>\n      <td>2021</td>\n      <td>13131</td>\n      <td>7833</td>\n      <td>5298</td>\n    </tr>\n    <tr>\n      <th>77</th>\n      <td>일본</td>\n      <td>2021</td>\n      <td>6208</td>\n      <td>1334</td>\n      <td>4874</td>\n    </tr>\n    <tr>\n      <th>78</th>\n      <td>중국</td>\n      <td>2021</td>\n      <td>95014</td>\n      <td>47937</td>\n      <td>47077</td>\n    </tr>\n    <tr>\n      <th>79</th>\n      <td>태국</td>\n      <td>2021</td>\n      <td>5194</td>\n      <td>2776</td>\n      <td>2418</td>\n    </tr>\n    <tr>\n      <th>80</th>\n      <td>필리핀</td>\n      <td>2021</td>\n      <td>1858</td>\n      <td>795</td>\n      <td>1063</td>\n    </tr>\n  </tbody>\n</table>\n</div>"
     },
     "execution_count": 138,
     "metadata": {},
     "output_type": "execute_result"
    }
   ],
   "source": [
    "#시점별 2021\n",
    "y_2021=year[year['시점']==2021]\n",
    "y_2021"
   ],
   "metadata": {
    "collapsed": false,
    "pycharm": {
     "name": "#%%\n"
    }
   }
  },
  {
   "cell_type": "markdown",
   "source": [
    "## 국적별, 시점 에 대한 총 범죄건수"
   ],
   "metadata": {
    "collapsed": false,
    "pycharm": {
     "name": "#%% md\n"
    }
   }
  },
  {
   "cell_type": "code",
   "execution_count": 139,
   "outputs": [
    {
     "data": {
      "text/plain": "       국적별      시점        계\n0       몽골    2013     4331\n1       미국    2013    26622\n2      베트남    2013    22248\n3     스리랑카    2013     5274\n4   우즈베키스탄    2013    12333\n..     ...     ...      ...\n77      일본    2021     6208\n78      중국    2021    95014\n79      태국    2021     5194\n80     필리핀    2021     1858\n81     NaN  163377  2596104\n\n[82 rows x 3 columns]",
      "text/html": "<div>\n<style scoped>\n    .dataframe tbody tr th:only-of-type {\n        vertical-align: middle;\n    }\n\n    .dataframe tbody tr th {\n        vertical-align: top;\n    }\n\n    .dataframe thead th {\n        text-align: right;\n    }\n</style>\n<table border=\"1\" class=\"dataframe\">\n  <thead>\n    <tr style=\"text-align: right;\">\n      <th></th>\n      <th>국적별</th>\n      <th>시점</th>\n      <th>계</th>\n    </tr>\n  </thead>\n  <tbody>\n    <tr>\n      <th>0</th>\n      <td>몽골</td>\n      <td>2013</td>\n      <td>4331</td>\n    </tr>\n    <tr>\n      <th>1</th>\n      <td>미국</td>\n      <td>2013</td>\n      <td>26622</td>\n    </tr>\n    <tr>\n      <th>2</th>\n      <td>베트남</td>\n      <td>2013</td>\n      <td>22248</td>\n    </tr>\n    <tr>\n      <th>3</th>\n      <td>스리랑카</td>\n      <td>2013</td>\n      <td>5274</td>\n    </tr>\n    <tr>\n      <th>4</th>\n      <td>우즈베키스탄</td>\n      <td>2013</td>\n      <td>12333</td>\n    </tr>\n    <tr>\n      <th>...</th>\n      <td>...</td>\n      <td>...</td>\n      <td>...</td>\n    </tr>\n    <tr>\n      <th>77</th>\n      <td>일본</td>\n      <td>2021</td>\n      <td>6208</td>\n    </tr>\n    <tr>\n      <th>78</th>\n      <td>중국</td>\n      <td>2021</td>\n      <td>95014</td>\n    </tr>\n    <tr>\n      <th>79</th>\n      <td>태국</td>\n      <td>2021</td>\n      <td>5194</td>\n    </tr>\n    <tr>\n      <th>80</th>\n      <td>필리핀</td>\n      <td>2021</td>\n      <td>1858</td>\n    </tr>\n    <tr>\n      <th>81</th>\n      <td>NaN</td>\n      <td>163377</td>\n      <td>2596104</td>\n    </tr>\n  </tbody>\n</table>\n<p>82 rows × 3 columns</p>\n</div>"
     },
     "execution_count": 139,
     "metadata": {},
     "output_type": "execute_result"
    }
   ],
   "source": [
    "year.loc[0:, '국적별':'계']"
   ],
   "metadata": {
    "collapsed": false,
    "pycharm": {
     "name": "#%%\n"
    }
   }
  },
  {
   "cell_type": "markdown",
   "source": [
    "# 범죄건수가 많은 국가별로 정렬"
   ],
   "metadata": {
    "collapsed": false,
    "pycharm": {
     "name": "#%% md\n"
    }
   }
  },
  {
   "cell_type": "code",
   "execution_count": 140,
   "outputs": [
    {
     "data": {
      "text/plain": "       국적별    시점       계     남자     여자\n15      중국  2014  192858  97151  95707\n16      태국  2014   48326  27422  20904\n11     베트남  2014   28012  13477  14535\n10      미국  2014   24500  11603  12897\n13  우즈베키스탄  2014   12920   8528   4392\n17     필리핀  2014   10717   5837   4880\n12    스리랑카  2014    4836   4633    203\n14      일본  2014    4736   1368   3368\n9       몽골  2014    3966   2150   1816",
      "text/html": "<div>\n<style scoped>\n    .dataframe tbody tr th:only-of-type {\n        vertical-align: middle;\n    }\n\n    .dataframe tbody tr th {\n        vertical-align: top;\n    }\n\n    .dataframe thead th {\n        text-align: right;\n    }\n</style>\n<table border=\"1\" class=\"dataframe\">\n  <thead>\n    <tr style=\"text-align: right;\">\n      <th></th>\n      <th>국적별</th>\n      <th>시점</th>\n      <th>계</th>\n      <th>남자</th>\n      <th>여자</th>\n    </tr>\n  </thead>\n  <tbody>\n    <tr>\n      <th>15</th>\n      <td>중국</td>\n      <td>2014</td>\n      <td>192858</td>\n      <td>97151</td>\n      <td>95707</td>\n    </tr>\n    <tr>\n      <th>16</th>\n      <td>태국</td>\n      <td>2014</td>\n      <td>48326</td>\n      <td>27422</td>\n      <td>20904</td>\n    </tr>\n    <tr>\n      <th>11</th>\n      <td>베트남</td>\n      <td>2014</td>\n      <td>28012</td>\n      <td>13477</td>\n      <td>14535</td>\n    </tr>\n    <tr>\n      <th>10</th>\n      <td>미국</td>\n      <td>2014</td>\n      <td>24500</td>\n      <td>11603</td>\n      <td>12897</td>\n    </tr>\n    <tr>\n      <th>13</th>\n      <td>우즈베키스탄</td>\n      <td>2014</td>\n      <td>12920</td>\n      <td>8528</td>\n      <td>4392</td>\n    </tr>\n    <tr>\n      <th>17</th>\n      <td>필리핀</td>\n      <td>2014</td>\n      <td>10717</td>\n      <td>5837</td>\n      <td>4880</td>\n    </tr>\n    <tr>\n      <th>12</th>\n      <td>스리랑카</td>\n      <td>2014</td>\n      <td>4836</td>\n      <td>4633</td>\n      <td>203</td>\n    </tr>\n    <tr>\n      <th>14</th>\n      <td>일본</td>\n      <td>2014</td>\n      <td>4736</td>\n      <td>1368</td>\n      <td>3368</td>\n    </tr>\n    <tr>\n      <th>9</th>\n      <td>몽골</td>\n      <td>2014</td>\n      <td>3966</td>\n      <td>2150</td>\n      <td>1816</td>\n    </tr>\n  </tbody>\n</table>\n</div>"
     },
     "execution_count": 140,
     "metadata": {},
     "output_type": "execute_result"
    }
   ],
   "source": [
    "#2014년\n",
    "y_2014.sort_values(by='계', ascending=False)"
   ],
   "metadata": {
    "collapsed": false,
    "pycharm": {
     "name": "#%%\n"
    }
   }
  },
  {
   "cell_type": "code",
   "execution_count": 141,
   "outputs": [
    {
     "data": {
      "text/plain": "       국적별    시점       계     남자     여자\n24      중국  2015  177001  87569  89432\n20     베트남  2015   30244  14099  16145\n19      미국  2015   22741  10546  12195\n25      태국  2015   20122   9103  11019\n22  우즈베키스탄  2015   14246   9188   5058\n26     필리핀  2015    9867   5532   4335\n18      몽골  2015    8286   4148   4138\n21    스리랑카  2015    5462   5250    212\n23      일본  2015    4589   1202   3387",
      "text/html": "<div>\n<style scoped>\n    .dataframe tbody tr th:only-of-type {\n        vertical-align: middle;\n    }\n\n    .dataframe tbody tr th {\n        vertical-align: top;\n    }\n\n    .dataframe thead th {\n        text-align: right;\n    }\n</style>\n<table border=\"1\" class=\"dataframe\">\n  <thead>\n    <tr style=\"text-align: right;\">\n      <th></th>\n      <th>국적별</th>\n      <th>시점</th>\n      <th>계</th>\n      <th>남자</th>\n      <th>여자</th>\n    </tr>\n  </thead>\n  <tbody>\n    <tr>\n      <th>24</th>\n      <td>중국</td>\n      <td>2015</td>\n      <td>177001</td>\n      <td>87569</td>\n      <td>89432</td>\n    </tr>\n    <tr>\n      <th>20</th>\n      <td>베트남</td>\n      <td>2015</td>\n      <td>30244</td>\n      <td>14099</td>\n      <td>16145</td>\n    </tr>\n    <tr>\n      <th>19</th>\n      <td>미국</td>\n      <td>2015</td>\n      <td>22741</td>\n      <td>10546</td>\n      <td>12195</td>\n    </tr>\n    <tr>\n      <th>25</th>\n      <td>태국</td>\n      <td>2015</td>\n      <td>20122</td>\n      <td>9103</td>\n      <td>11019</td>\n    </tr>\n    <tr>\n      <th>22</th>\n      <td>우즈베키스탄</td>\n      <td>2015</td>\n      <td>14246</td>\n      <td>9188</td>\n      <td>5058</td>\n    </tr>\n    <tr>\n      <th>26</th>\n      <td>필리핀</td>\n      <td>2015</td>\n      <td>9867</td>\n      <td>5532</td>\n      <td>4335</td>\n    </tr>\n    <tr>\n      <th>18</th>\n      <td>몽골</td>\n      <td>2015</td>\n      <td>8286</td>\n      <td>4148</td>\n      <td>4138</td>\n    </tr>\n    <tr>\n      <th>21</th>\n      <td>스리랑카</td>\n      <td>2015</td>\n      <td>5462</td>\n      <td>5250</td>\n      <td>212</td>\n    </tr>\n    <tr>\n      <th>23</th>\n      <td>일본</td>\n      <td>2015</td>\n      <td>4589</td>\n      <td>1202</td>\n      <td>3387</td>\n    </tr>\n  </tbody>\n</table>\n</div>"
     },
     "execution_count": 141,
     "metadata": {},
     "output_type": "execute_result"
    }
   ],
   "source": [
    "#2015년\n",
    "y_2015.sort_values(by='계', ascending=False)"
   ],
   "metadata": {
    "collapsed": false,
    "pycharm": {
     "name": "#%%\n"
    }
   }
  },
  {
   "cell_type": "code",
   "execution_count": 142,
   "outputs": [
    {
     "data": {
      "text/plain": "       국적별    시점       계     남자     여자\n33      중국  2016  165494  81136  84358\n29     베트남  2016   40099  19397  20702\n34      태국  2016   28457  12452  16005\n28      미국  2016   21771  10147  11624\n31  우즈베키스탄  2016   16151   9918   6233\n35     필리핀  2016    9530   5495   4035\n27      몽골  2016    8155   3845   4310\n30    스리랑카  2016    7093   6892    201\n32      일본  2016    4662   1225   3437",
      "text/html": "<div>\n<style scoped>\n    .dataframe tbody tr th:only-of-type {\n        vertical-align: middle;\n    }\n\n    .dataframe tbody tr th {\n        vertical-align: top;\n    }\n\n    .dataframe thead th {\n        text-align: right;\n    }\n</style>\n<table border=\"1\" class=\"dataframe\">\n  <thead>\n    <tr style=\"text-align: right;\">\n      <th></th>\n      <th>국적별</th>\n      <th>시점</th>\n      <th>계</th>\n      <th>남자</th>\n      <th>여자</th>\n    </tr>\n  </thead>\n  <tbody>\n    <tr>\n      <th>33</th>\n      <td>중국</td>\n      <td>2016</td>\n      <td>165494</td>\n      <td>81136</td>\n      <td>84358</td>\n    </tr>\n    <tr>\n      <th>29</th>\n      <td>베트남</td>\n      <td>2016</td>\n      <td>40099</td>\n      <td>19397</td>\n      <td>20702</td>\n    </tr>\n    <tr>\n      <th>34</th>\n      <td>태국</td>\n      <td>2016</td>\n      <td>28457</td>\n      <td>12452</td>\n      <td>16005</td>\n    </tr>\n    <tr>\n      <th>28</th>\n      <td>미국</td>\n      <td>2016</td>\n      <td>21771</td>\n      <td>10147</td>\n      <td>11624</td>\n    </tr>\n    <tr>\n      <th>31</th>\n      <td>우즈베키스탄</td>\n      <td>2016</td>\n      <td>16151</td>\n      <td>9918</td>\n      <td>6233</td>\n    </tr>\n    <tr>\n      <th>35</th>\n      <td>필리핀</td>\n      <td>2016</td>\n      <td>9530</td>\n      <td>5495</td>\n      <td>4035</td>\n    </tr>\n    <tr>\n      <th>27</th>\n      <td>몽골</td>\n      <td>2016</td>\n      <td>8155</td>\n      <td>3845</td>\n      <td>4310</td>\n    </tr>\n    <tr>\n      <th>30</th>\n      <td>스리랑카</td>\n      <td>2016</td>\n      <td>7093</td>\n      <td>6892</td>\n      <td>201</td>\n    </tr>\n    <tr>\n      <th>32</th>\n      <td>일본</td>\n      <td>2016</td>\n      <td>4662</td>\n      <td>1225</td>\n      <td>3437</td>\n    </tr>\n  </tbody>\n</table>\n</div>"
     },
     "execution_count": 142,
     "metadata": {},
     "output_type": "execute_result"
    }
   ],
   "source": [
    "#2016년\n",
    "y_2016.sort_values(by='계', ascending=False)"
   ],
   "metadata": {
    "collapsed": false,
    "pycharm": {
     "name": "#%%\n"
    }
   }
  },
  {
   "cell_type": "code",
   "execution_count": 143,
   "outputs": [
    {
     "data": {
      "text/plain": "       국적별    시점       계     남자     여자\n42      중국  2017  156848  79489  77359\n43      태국  2017   71506  33221  38285\n38     베트남  2017   47964  23822  24142\n37      미국  2017   19848   9095  10753\n40  우즈베키스탄  2017   18486  11833   6653\n36      몽골  2017   11781   5902   5879\n44     필리핀  2017    8988   5185   3803\n41      일본  2017    4469   1033   3436\n39    스리랑카  2017    3878   3705    173",
      "text/html": "<div>\n<style scoped>\n    .dataframe tbody tr th:only-of-type {\n        vertical-align: middle;\n    }\n\n    .dataframe tbody tr th {\n        vertical-align: top;\n    }\n\n    .dataframe thead th {\n        text-align: right;\n    }\n</style>\n<table border=\"1\" class=\"dataframe\">\n  <thead>\n    <tr style=\"text-align: right;\">\n      <th></th>\n      <th>국적별</th>\n      <th>시점</th>\n      <th>계</th>\n      <th>남자</th>\n      <th>여자</th>\n    </tr>\n  </thead>\n  <tbody>\n    <tr>\n      <th>42</th>\n      <td>중국</td>\n      <td>2017</td>\n      <td>156848</td>\n      <td>79489</td>\n      <td>77359</td>\n    </tr>\n    <tr>\n      <th>43</th>\n      <td>태국</td>\n      <td>2017</td>\n      <td>71506</td>\n      <td>33221</td>\n      <td>38285</td>\n    </tr>\n    <tr>\n      <th>38</th>\n      <td>베트남</td>\n      <td>2017</td>\n      <td>47964</td>\n      <td>23822</td>\n      <td>24142</td>\n    </tr>\n    <tr>\n      <th>37</th>\n      <td>미국</td>\n      <td>2017</td>\n      <td>19848</td>\n      <td>9095</td>\n      <td>10753</td>\n    </tr>\n    <tr>\n      <th>40</th>\n      <td>우즈베키스탄</td>\n      <td>2017</td>\n      <td>18486</td>\n      <td>11833</td>\n      <td>6653</td>\n    </tr>\n    <tr>\n      <th>36</th>\n      <td>몽골</td>\n      <td>2017</td>\n      <td>11781</td>\n      <td>5902</td>\n      <td>5879</td>\n    </tr>\n    <tr>\n      <th>44</th>\n      <td>필리핀</td>\n      <td>2017</td>\n      <td>8988</td>\n      <td>5185</td>\n      <td>3803</td>\n    </tr>\n    <tr>\n      <th>41</th>\n      <td>일본</td>\n      <td>2017</td>\n      <td>4469</td>\n      <td>1033</td>\n      <td>3436</td>\n    </tr>\n    <tr>\n      <th>39</th>\n      <td>스리랑카</td>\n      <td>2017</td>\n      <td>3878</td>\n      <td>3705</td>\n      <td>173</td>\n    </tr>\n  </tbody>\n</table>\n</div>"
     },
     "execution_count": 143,
     "metadata": {},
     "output_type": "execute_result"
    }
   ],
   "source": [
    "#2017년\n",
    "y_2017.sort_values(by='계', ascending=False)"
   ],
   "metadata": {
    "collapsed": false,
    "pycharm": {
     "name": "#%%\n"
    }
   }
  },
  {
   "cell_type": "code",
   "execution_count": 144,
   "outputs": [
    {
     "data": {
      "text/plain": "       국적별    시점       계     남자     여자\n51      중국  2018  169336  86358  82978\n52      태국  2018   80349  36886  43463\n47     베트남  2018   55992  27922  28070\n46      미국  2018   21171   9461  11710\n49  우즈베키스탄  2018   18818  12214   6604\n45      몽골  2018   10166   4957   5209\n53     필리핀  2018   10053   5888   4165\n50      일본  2018    5222   1199   4023\n48    스리랑카  2018    3913   3696    217",
      "text/html": "<div>\n<style scoped>\n    .dataframe tbody tr th:only-of-type {\n        vertical-align: middle;\n    }\n\n    .dataframe tbody tr th {\n        vertical-align: top;\n    }\n\n    .dataframe thead th {\n        text-align: right;\n    }\n</style>\n<table border=\"1\" class=\"dataframe\">\n  <thead>\n    <tr style=\"text-align: right;\">\n      <th></th>\n      <th>국적별</th>\n      <th>시점</th>\n      <th>계</th>\n      <th>남자</th>\n      <th>여자</th>\n    </tr>\n  </thead>\n  <tbody>\n    <tr>\n      <th>51</th>\n      <td>중국</td>\n      <td>2018</td>\n      <td>169336</td>\n      <td>86358</td>\n      <td>82978</td>\n    </tr>\n    <tr>\n      <th>52</th>\n      <td>태국</td>\n      <td>2018</td>\n      <td>80349</td>\n      <td>36886</td>\n      <td>43463</td>\n    </tr>\n    <tr>\n      <th>47</th>\n      <td>베트남</td>\n      <td>2018</td>\n      <td>55992</td>\n      <td>27922</td>\n      <td>28070</td>\n    </tr>\n    <tr>\n      <th>46</th>\n      <td>미국</td>\n      <td>2018</td>\n      <td>21171</td>\n      <td>9461</td>\n      <td>11710</td>\n    </tr>\n    <tr>\n      <th>49</th>\n      <td>우즈베키스탄</td>\n      <td>2018</td>\n      <td>18818</td>\n      <td>12214</td>\n      <td>6604</td>\n    </tr>\n    <tr>\n      <th>45</th>\n      <td>몽골</td>\n      <td>2018</td>\n      <td>10166</td>\n      <td>4957</td>\n      <td>5209</td>\n    </tr>\n    <tr>\n      <th>53</th>\n      <td>필리핀</td>\n      <td>2018</td>\n      <td>10053</td>\n      <td>5888</td>\n      <td>4165</td>\n    </tr>\n    <tr>\n      <th>50</th>\n      <td>일본</td>\n      <td>2018</td>\n      <td>5222</td>\n      <td>1199</td>\n      <td>4023</td>\n    </tr>\n    <tr>\n      <th>48</th>\n      <td>스리랑카</td>\n      <td>2018</td>\n      <td>3913</td>\n      <td>3696</td>\n      <td>217</td>\n    </tr>\n  </tbody>\n</table>\n</div>"
     },
     "execution_count": 144,
     "metadata": {},
     "output_type": "execute_result"
    }
   ],
   "source": [
    "#2018년\n",
    "y_2018.sort_values(by='계', ascending=False)"
   ],
   "metadata": {
    "collapsed": false,
    "pycharm": {
     "name": "#%%\n"
    }
   }
  },
  {
   "cell_type": "code",
   "execution_count": 145,
   "outputs": [
    {
     "data": {
      "text/plain": "       국적별    시점       계     남자     여자\n60      중국  2019  138653  66759  71894\n56     베트남  2019   61344  32214  29130\n61      태국  2019   53290  20325  32965\n58  우즈베키스탄  2019   25961  16298   9663\n55      미국  2019   20839   9395  11444\n62     필리핀  2019    9149   5516   3633\n54      몽골  2019    8715   4315   4400\n59      일본  2019    5058   1039   4019\n57    스리랑카  2019    4052   3869    183",
      "text/html": "<div>\n<style scoped>\n    .dataframe tbody tr th:only-of-type {\n        vertical-align: middle;\n    }\n\n    .dataframe tbody tr th {\n        vertical-align: top;\n    }\n\n    .dataframe thead th {\n        text-align: right;\n    }\n</style>\n<table border=\"1\" class=\"dataframe\">\n  <thead>\n    <tr style=\"text-align: right;\">\n      <th></th>\n      <th>국적별</th>\n      <th>시점</th>\n      <th>계</th>\n      <th>남자</th>\n      <th>여자</th>\n    </tr>\n  </thead>\n  <tbody>\n    <tr>\n      <th>60</th>\n      <td>중국</td>\n      <td>2019</td>\n      <td>138653</td>\n      <td>66759</td>\n      <td>71894</td>\n    </tr>\n    <tr>\n      <th>56</th>\n      <td>베트남</td>\n      <td>2019</td>\n      <td>61344</td>\n      <td>32214</td>\n      <td>29130</td>\n    </tr>\n    <tr>\n      <th>61</th>\n      <td>태국</td>\n      <td>2019</td>\n      <td>53290</td>\n      <td>20325</td>\n      <td>32965</td>\n    </tr>\n    <tr>\n      <th>58</th>\n      <td>우즈베키스탄</td>\n      <td>2019</td>\n      <td>25961</td>\n      <td>16298</td>\n      <td>9663</td>\n    </tr>\n    <tr>\n      <th>55</th>\n      <td>미국</td>\n      <td>2019</td>\n      <td>20839</td>\n      <td>9395</td>\n      <td>11444</td>\n    </tr>\n    <tr>\n      <th>62</th>\n      <td>필리핀</td>\n      <td>2019</td>\n      <td>9149</td>\n      <td>5516</td>\n      <td>3633</td>\n    </tr>\n    <tr>\n      <th>54</th>\n      <td>몽골</td>\n      <td>2019</td>\n      <td>8715</td>\n      <td>4315</td>\n      <td>4400</td>\n    </tr>\n    <tr>\n      <th>59</th>\n      <td>일본</td>\n      <td>2019</td>\n      <td>5058</td>\n      <td>1039</td>\n      <td>4019</td>\n    </tr>\n    <tr>\n      <th>57</th>\n      <td>스리랑카</td>\n      <td>2019</td>\n      <td>4052</td>\n      <td>3869</td>\n      <td>183</td>\n    </tr>\n  </tbody>\n</table>\n</div>"
     },
     "execution_count": 145,
     "metadata": {},
     "output_type": "execute_result"
    }
   ],
   "source": [
    "#2019년\n",
    "y_2019.sort_values(by='계', ascending=False)"
   ],
   "metadata": {
    "collapsed": false,
    "pycharm": {
     "name": "#%%\n"
    }
   }
  },
  {
   "cell_type": "code",
   "execution_count": 146,
   "outputs": [
    {
     "data": {
      "text/plain": "       국적별    시점      계     남자     여자\n69      중국  2020  96256  48167  48089\n65     베트남  2020  28005  10720  17285\n64      미국  2020  21296  10088  11208\n70      태국  2020   8693   2230   6463\n67  우즈베키스탄  2020   8012   5113   2899\n63      몽골  2020   7122   3214   3908\n68      일본  2020   4546   1332   3214\n71     필리핀  2020   2939   1262   1677\n66    스리랑카  2020   1188   1091     97",
      "text/html": "<div>\n<style scoped>\n    .dataframe tbody tr th:only-of-type {\n        vertical-align: middle;\n    }\n\n    .dataframe tbody tr th {\n        vertical-align: top;\n    }\n\n    .dataframe thead th {\n        text-align: right;\n    }\n</style>\n<table border=\"1\" class=\"dataframe\">\n  <thead>\n    <tr style=\"text-align: right;\">\n      <th></th>\n      <th>국적별</th>\n      <th>시점</th>\n      <th>계</th>\n      <th>남자</th>\n      <th>여자</th>\n    </tr>\n  </thead>\n  <tbody>\n    <tr>\n      <th>69</th>\n      <td>중국</td>\n      <td>2020</td>\n      <td>96256</td>\n      <td>48167</td>\n      <td>48089</td>\n    </tr>\n    <tr>\n      <th>65</th>\n      <td>베트남</td>\n      <td>2020</td>\n      <td>28005</td>\n      <td>10720</td>\n      <td>17285</td>\n    </tr>\n    <tr>\n      <th>64</th>\n      <td>미국</td>\n      <td>2020</td>\n      <td>21296</td>\n      <td>10088</td>\n      <td>11208</td>\n    </tr>\n    <tr>\n      <th>70</th>\n      <td>태국</td>\n      <td>2020</td>\n      <td>8693</td>\n      <td>2230</td>\n      <td>6463</td>\n    </tr>\n    <tr>\n      <th>67</th>\n      <td>우즈베키스탄</td>\n      <td>2020</td>\n      <td>8012</td>\n      <td>5113</td>\n      <td>2899</td>\n    </tr>\n    <tr>\n      <th>63</th>\n      <td>몽골</td>\n      <td>2020</td>\n      <td>7122</td>\n      <td>3214</td>\n      <td>3908</td>\n    </tr>\n    <tr>\n      <th>68</th>\n      <td>일본</td>\n      <td>2020</td>\n      <td>4546</td>\n      <td>1332</td>\n      <td>3214</td>\n    </tr>\n    <tr>\n      <th>71</th>\n      <td>필리핀</td>\n      <td>2020</td>\n      <td>2939</td>\n      <td>1262</td>\n      <td>1677</td>\n    </tr>\n    <tr>\n      <th>66</th>\n      <td>스리랑카</td>\n      <td>2020</td>\n      <td>1188</td>\n      <td>1091</td>\n      <td>97</td>\n    </tr>\n  </tbody>\n</table>\n</div>"
     },
     "execution_count": 146,
     "metadata": {},
     "output_type": "execute_result"
    }
   ],
   "source": [
    "#2020년\n",
    "y_2020.sort_values(by='계', ascending=False)"
   ],
   "metadata": {
    "collapsed": false,
    "pycharm": {
     "name": "#%%\n"
    }
   }
  },
  {
   "cell_type": "code",
   "execution_count": 147,
   "outputs": [
    {
     "data": {
      "text/plain": "       국적별    시점      계     남자     여자\n78      중국  2021  95014  47937  47077\n73      미국  2021  17564   7038  10526\n74     베트남  2021  17462   7955   9507\n76  우즈베키스탄  2021  13131   7833   5298\n77      일본  2021   6208   1334   4874\n79      태국  2021   5194   2776   2418\n72      몽골  2021   3884   1619   2265\n80     필리핀  2021   1858    795   1063\n75    스리랑카  2021   1439   1313    126",
      "text/html": "<div>\n<style scoped>\n    .dataframe tbody tr th:only-of-type {\n        vertical-align: middle;\n    }\n\n    .dataframe tbody tr th {\n        vertical-align: top;\n    }\n\n    .dataframe thead th {\n        text-align: right;\n    }\n</style>\n<table border=\"1\" class=\"dataframe\">\n  <thead>\n    <tr style=\"text-align: right;\">\n      <th></th>\n      <th>국적별</th>\n      <th>시점</th>\n      <th>계</th>\n      <th>남자</th>\n      <th>여자</th>\n    </tr>\n  </thead>\n  <tbody>\n    <tr>\n      <th>78</th>\n      <td>중국</td>\n      <td>2021</td>\n      <td>95014</td>\n      <td>47937</td>\n      <td>47077</td>\n    </tr>\n    <tr>\n      <th>73</th>\n      <td>미국</td>\n      <td>2021</td>\n      <td>17564</td>\n      <td>7038</td>\n      <td>10526</td>\n    </tr>\n    <tr>\n      <th>74</th>\n      <td>베트남</td>\n      <td>2021</td>\n      <td>17462</td>\n      <td>7955</td>\n      <td>9507</td>\n    </tr>\n    <tr>\n      <th>76</th>\n      <td>우즈베키스탄</td>\n      <td>2021</td>\n      <td>13131</td>\n      <td>7833</td>\n      <td>5298</td>\n    </tr>\n    <tr>\n      <th>77</th>\n      <td>일본</td>\n      <td>2021</td>\n      <td>6208</td>\n      <td>1334</td>\n      <td>4874</td>\n    </tr>\n    <tr>\n      <th>79</th>\n      <td>태국</td>\n      <td>2021</td>\n      <td>5194</td>\n      <td>2776</td>\n      <td>2418</td>\n    </tr>\n    <tr>\n      <th>72</th>\n      <td>몽골</td>\n      <td>2021</td>\n      <td>3884</td>\n      <td>1619</td>\n      <td>2265</td>\n    </tr>\n    <tr>\n      <th>80</th>\n      <td>필리핀</td>\n      <td>2021</td>\n      <td>1858</td>\n      <td>795</td>\n      <td>1063</td>\n    </tr>\n    <tr>\n      <th>75</th>\n      <td>스리랑카</td>\n      <td>2021</td>\n      <td>1439</td>\n      <td>1313</td>\n      <td>126</td>\n    </tr>\n  </tbody>\n</table>\n</div>"
     },
     "execution_count": 147,
     "metadata": {},
     "output_type": "execute_result"
    }
   ],
   "source": [
    "#2021년\n",
    "y_2021.sort_values(by='계', ascending=False)"
   ],
   "metadata": {
    "collapsed": false,
    "pycharm": {
     "name": "#%%\n"
    }
   }
  },
  {
   "cell_type": "markdown",
   "source": [
    "## 연도별 범죄 평균"
   ],
   "metadata": {
    "collapsed": false,
    "pycharm": {
     "name": "#%% md\n"
    }
   }
  },
  {
   "cell_type": "code",
   "execution_count": 148,
   "outputs": [
    {
     "name": "stdout",
     "output_type": "stream",
     "text": [
      "연도별 범죄 평균:  (시점     2014.000000\n",
      "계     36763.444444\n",
      "남자    19129.888889\n",
      "여자    17633.555556\n",
      "dtype: float64, 시점     2015.000000\n",
      "계     32506.444444\n",
      "남자    16293.000000\n",
      "여자    16213.444444\n",
      "dtype: float64, 시점     2016.000000\n",
      "계     33490.222222\n",
      "남자    16723.000000\n",
      "여자    16767.222222\n",
      "dtype: float64, 시점     2017.000000\n",
      "계     38196.444444\n",
      "남자    19253.888889\n",
      "여자    18942.555556\n",
      "dtype: float64, 시점     2018.000000\n",
      "계     41668.888889\n",
      "남자    20953.444444\n",
      "여자    20715.444444\n",
      "dtype: float64, 시점     2019.000000\n",
      "계     36340.111111\n",
      "남자    17747.777778\n",
      "여자    18592.333333\n",
      "dtype: float64, 시점     2020.000000\n",
      "계     19784.111111\n",
      "남자     9246.333333\n",
      "여자    10537.777778\n",
      "dtype: float64, 시점     2021.000000\n",
      "계     17972.666667\n",
      "남자     8733.333333\n",
      "여자     9239.333333\n",
      "dtype: float64)\n"
     ]
    },
    {
     "name": "stderr",
     "output_type": "stream",
     "text": [
      "C:\\Users\\jpc10\\AppData\\Local\\Temp\\ipykernel_19984\\115555394.py:1: FutureWarning: Dropping of nuisance columns in DataFrame reductions (with 'numeric_only=None') is deprecated; in a future version this will raise TypeError.  Select only valid columns before calling the reduction.\n",
      "  y_mean=y_2014.mean(), y_2015.mean(), y_2016.mean(), y_2017.mean(),y_2018.mean(),y_2019.mean(),y_2020.mean(),y_2021.mean()\n"
     ]
    }
   ],
   "source": [
    "y_mean=y_2014.mean(), y_2015.mean(), y_2016.mean(), y_2017.mean(),y_2018.mean(),y_2019.mean(),y_2020.mean(),y_2021.mean()\n",
    "print('연도별 범죄 평균: ', y_mean)"
   ],
   "metadata": {
    "collapsed": false,
    "pycharm": {
     "name": "#%%\n"
    }
   }
  }
 ],
 "metadata": {
  "kernelspec": {
   "display_name": "Python 3",
   "language": "python",
   "name": "python3"
  },
  "language_info": {
   "codemirror_mode": {
    "name": "ipython",
    "version": 2
   },
   "file_extension": ".py",
   "mimetype": "text/x-python",
   "name": "python",
   "nbconvert_exporter": "python",
   "pygments_lexer": "ipython2",
   "version": "2.7.6"
  }
 },
 "nbformat": 4,
 "nbformat_minor": 0
}