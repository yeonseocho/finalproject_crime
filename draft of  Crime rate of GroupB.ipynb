{
 "cells": [
  {
   "cell_type": "code",
   "execution_count": 4,
   "id": "6341a161",
   "metadata": {},
   "outputs": [],
   "source": [
    "import pandas as pd\n",
    "import numpy as np\n",
    "\n",
    "from sklearn.tree import DecisionTreeRegressor\n",
    "from sklearn.ensemble import RandomForestRegressor\n",
    "\n",
    "from sklearn.model_selection import train_test_split\n",
    "\n",
    "from sklearn.metrics import accuracy_score as acc_sc"
   ]
  },
  {
   "cell_type": "code",
   "execution_count": 5,
   "id": "acd7b424",
   "metadata": {},
   "outputs": [
    {
     "data": {
      "text/plain": "      국적별    시점      계     남자     여자\n0      몽골  2013   4331   2553   1778\n1      미국  2013  26622  12833  13789\n2     베트남  2013  22248   7811  14437\n3    스리랑카  2013   5274   5064    210\n4  우즈베키스탄  2013  12333   8283   4050",
      "text/html": "<div>\n<style scoped>\n    .dataframe tbody tr th:only-of-type {\n        vertical-align: middle;\n    }\n\n    .dataframe tbody tr th {\n        vertical-align: top;\n    }\n\n    .dataframe thead th {\n        text-align: right;\n    }\n</style>\n<table border=\"1\" class=\"dataframe\">\n  <thead>\n    <tr style=\"text-align: right;\">\n      <th></th>\n      <th>국적별</th>\n      <th>시점</th>\n      <th>계</th>\n      <th>남자</th>\n      <th>여자</th>\n    </tr>\n  </thead>\n  <tbody>\n    <tr>\n      <th>0</th>\n      <td>몽골</td>\n      <td>2013</td>\n      <td>4331</td>\n      <td>2553</td>\n      <td>1778</td>\n    </tr>\n    <tr>\n      <th>1</th>\n      <td>미국</td>\n      <td>2013</td>\n      <td>26622</td>\n      <td>12833</td>\n      <td>13789</td>\n    </tr>\n    <tr>\n      <th>2</th>\n      <td>베트남</td>\n      <td>2013</td>\n      <td>22248</td>\n      <td>7811</td>\n      <td>14437</td>\n    </tr>\n    <tr>\n      <th>3</th>\n      <td>스리랑카</td>\n      <td>2013</td>\n      <td>5274</td>\n      <td>5064</td>\n      <td>210</td>\n    </tr>\n    <tr>\n      <th>4</th>\n      <td>우즈베키스탄</td>\n      <td>2013</td>\n      <td>12333</td>\n      <td>8283</td>\n      <td>4050</td>\n    </tr>\n  </tbody>\n</table>\n</div>"
     },
     "execution_count": 5,
     "metadata": {},
     "output_type": "execute_result"
    }
   ],
   "source": [
    "foreign_df = pd.read_csv('./data/외국인 거주 연 기준.csv', encoding='cp949', sep='\\t')\n",
    "foreign_df.head()"
   ]
  },
  {
   "cell_type": "code",
   "execution_count": 6,
   "id": "1f4182fc",
   "metadata": {},
   "outputs": [
    {
     "data": {
      "text/plain": "국적별    1\n시점     0\n계      0\n남자     0\n여자     0\ndtype: int64"
     },
     "execution_count": 6,
     "metadata": {},
     "output_type": "execute_result"
    }
   ],
   "source": [
    "foreign_df.isna().sum()"
   ]
  },
  {
   "cell_type": "code",
   "execution_count": 7,
   "id": "fcdfbf2b",
   "metadata": {},
   "outputs": [],
   "source": [
    "# 결측값 제거\n",
    "f_df1 = foreign_df.dropna()"
   ]
  },
  {
   "cell_type": "code",
   "execution_count": 8,
   "id": "d667d36b",
   "metadata": {},
   "outputs": [
    {
     "data": {
      "text/plain": "      국적별    시점      계     남자     여자\n0      몽골  2013   4331   2553   1778\n1      미국  2013  26622  12833  13789\n2     베트남  2013  22248   7811  14437\n3    스리랑카  2013   5274   5064    210\n4  우즈베키스탄  2013  12333   8283   4050",
      "text/html": "<div>\n<style scoped>\n    .dataframe tbody tr th:only-of-type {\n        vertical-align: middle;\n    }\n\n    .dataframe tbody tr th {\n        vertical-align: top;\n    }\n\n    .dataframe thead th {\n        text-align: right;\n    }\n</style>\n<table border=\"1\" class=\"dataframe\">\n  <thead>\n    <tr style=\"text-align: right;\">\n      <th></th>\n      <th>국적별</th>\n      <th>시점</th>\n      <th>계</th>\n      <th>남자</th>\n      <th>여자</th>\n    </tr>\n  </thead>\n  <tbody>\n    <tr>\n      <th>0</th>\n      <td>몽골</td>\n      <td>2013</td>\n      <td>4331</td>\n      <td>2553</td>\n      <td>1778</td>\n    </tr>\n    <tr>\n      <th>1</th>\n      <td>미국</td>\n      <td>2013</td>\n      <td>26622</td>\n      <td>12833</td>\n      <td>13789</td>\n    </tr>\n    <tr>\n      <th>2</th>\n      <td>베트남</td>\n      <td>2013</td>\n      <td>22248</td>\n      <td>7811</td>\n      <td>14437</td>\n    </tr>\n    <tr>\n      <th>3</th>\n      <td>스리랑카</td>\n      <td>2013</td>\n      <td>5274</td>\n      <td>5064</td>\n      <td>210</td>\n    </tr>\n    <tr>\n      <th>4</th>\n      <td>우즈베키스탄</td>\n      <td>2013</td>\n      <td>12333</td>\n      <td>8283</td>\n      <td>4050</td>\n    </tr>\n  </tbody>\n</table>\n</div>"
     },
     "execution_count": 8,
     "metadata": {},
     "output_type": "execute_result"
    }
   ],
   "source": [
    "f_df1.head()"
   ]
  },
  {
   "cell_type": "code",
   "execution_count": 9,
   "id": "382631bf",
   "metadata": {},
   "outputs": [
    {
     "data": {
      "text/plain": "   국적별    시점      계     남자     여자\n0    0  2013   4331   2553   1778\n1    1  2013  26622  12833  13789",
      "text/html": "<div>\n<style scoped>\n    .dataframe tbody tr th:only-of-type {\n        vertical-align: middle;\n    }\n\n    .dataframe tbody tr th {\n        vertical-align: top;\n    }\n\n    .dataframe thead th {\n        text-align: right;\n    }\n</style>\n<table border=\"1\" class=\"dataframe\">\n  <thead>\n    <tr style=\"text-align: right;\">\n      <th></th>\n      <th>국적별</th>\n      <th>시점</th>\n      <th>계</th>\n      <th>남자</th>\n      <th>여자</th>\n    </tr>\n  </thead>\n  <tbody>\n    <tr>\n      <th>0</th>\n      <td>0</td>\n      <td>2013</td>\n      <td>4331</td>\n      <td>2553</td>\n      <td>1778</td>\n    </tr>\n    <tr>\n      <th>1</th>\n      <td>1</td>\n      <td>2013</td>\n      <td>26622</td>\n      <td>12833</td>\n      <td>13789</td>\n    </tr>\n  </tbody>\n</table>\n</div>"
     },
     "execution_count": 9,
     "metadata": {},
     "output_type": "execute_result"
    }
   ],
   "source": [
    "from sklearn.preprocessing import LabelEncoder\n",
    "import warnings\n",
    "warnings.filterwarnings('ignore')\n",
    "\n",
    "le = LabelEncoder()\n",
    "f_df1['국적별'] = le.fit_transform(f_df1['국적별'])\n",
    "\n",
    "f_df1.head(2)"
   ]
  },
  {
   "cell_type": "code",
   "execution_count": 10,
   "id": "26f37cfd",
   "metadata": {},
   "outputs": [],
   "source": [
    "# define X_ftr and y_target\n",
    "\n",
    "y_tar = f_df1['계']\n",
    "X_ftr = f_df1.drop('계', axis= 1)"
   ]
  },
  {
   "cell_type": "code",
   "execution_count": 11,
   "id": "2a456369",
   "metadata": {},
   "outputs": [],
   "source": [
    "## train_test_split \n",
    "from sklearn.model_selection import train_test_split\n",
    "\n",
    "X_train, X_test, y_train, y_test = train_test_split(X_ftr, y_tar)"
   ]
  },
  {
   "cell_type": "code",
   "execution_count": 12,
   "id": "9e947c7b",
   "metadata": {},
   "outputs": [],
   "source": [
    "from sklearn.metrics import mean_absolute_error, mean_squared_error, mean_squared_log_error"
   ]
  },
  {
   "cell_type": "code",
   "execution_count": 13,
   "id": "9a37e1b0",
   "metadata": {},
   "outputs": [],
   "source": [
    "# 학습\n",
    "dt_reg = DecisionTreeRegressor()\n",
    "dt_reg.fit(X_train,y_train)\n",
    "\n",
    "y_pred = dt_reg.predict(X_test)\n",
    "mae = mean_absolute_error(y_test,y_pred)"
   ]
  },
  {
   "cell_type": "code",
   "execution_count": 14,
   "id": "2b4f2d53",
   "metadata": {},
   "outputs": [
    {
     "data": {
      "text/plain": "(21,)"
     },
     "execution_count": 14,
     "metadata": {},
     "output_type": "execute_result"
    }
   ],
   "source": [
    "X_train.shape\n",
    "X_test.shape\n",
    "\n",
    "y_train.shape\n",
    "y_test.shape"
   ]
  },
  {
   "cell_type": "code",
   "execution_count": 15,
   "id": "e2731060",
   "metadata": {},
   "outputs": [
    {
     "data": {
      "text/plain": "(21,)"
     },
     "execution_count": 15,
     "metadata": {},
     "output_type": "execute_result"
    }
   ],
   "source": [
    "y_pred.shape"
   ]
  },
  {
   "cell_type": "code",
   "execution_count": 16,
   "id": "c233b2bb",
   "metadata": {},
   "outputs": [
    {
     "data": {
      "text/plain": "    actual_y    pred_y     diff\n52     80349   55992.0  24357.0\n43     71506   48326.0  23180.0\n42    156848  177001.0  20153.0\n33    165494  177001.0  11507.0\n56     61344   53290.0   8054.0\n51    169336  177001.0   7665.0\n70      8693   16151.0   7458.0\n58     25961   18818.0   7143.0\n44      8988    2939.0   6049.0\n36     11781   17462.0   5681.0",
      "text/html": "<div>\n<style scoped>\n    .dataframe tbody tr th:only-of-type {\n        vertical-align: middle;\n    }\n\n    .dataframe tbody tr th {\n        vertical-align: top;\n    }\n\n    .dataframe thead th {\n        text-align: right;\n    }\n</style>\n<table border=\"1\" class=\"dataframe\">\n  <thead>\n    <tr style=\"text-align: right;\">\n      <th></th>\n      <th>actual_y</th>\n      <th>pred_y</th>\n      <th>diff</th>\n    </tr>\n  </thead>\n  <tbody>\n    <tr>\n      <th>52</th>\n      <td>80349</td>\n      <td>55992.0</td>\n      <td>24357.0</td>\n    </tr>\n    <tr>\n      <th>43</th>\n      <td>71506</td>\n      <td>48326.0</td>\n      <td>23180.0</td>\n    </tr>\n    <tr>\n      <th>42</th>\n      <td>156848</td>\n      <td>177001.0</td>\n      <td>20153.0</td>\n    </tr>\n    <tr>\n      <th>33</th>\n      <td>165494</td>\n      <td>177001.0</td>\n      <td>11507.0</td>\n    </tr>\n    <tr>\n      <th>56</th>\n      <td>61344</td>\n      <td>53290.0</td>\n      <td>8054.0</td>\n    </tr>\n    <tr>\n      <th>51</th>\n      <td>169336</td>\n      <td>177001.0</td>\n      <td>7665.0</td>\n    </tr>\n    <tr>\n      <th>70</th>\n      <td>8693</td>\n      <td>16151.0</td>\n      <td>7458.0</td>\n    </tr>\n    <tr>\n      <th>58</th>\n      <td>25961</td>\n      <td>18818.0</td>\n      <td>7143.0</td>\n    </tr>\n    <tr>\n      <th>44</th>\n      <td>8988</td>\n      <td>2939.0</td>\n      <td>6049.0</td>\n    </tr>\n    <tr>\n      <th>36</th>\n      <td>11781</td>\n      <td>17462.0</td>\n      <td>5681.0</td>\n    </tr>\n  </tbody>\n</table>\n</div>"
     },
     "execution_count": 16,
     "metadata": {},
     "output_type": "execute_result"
    }
   ],
   "source": [
    "check_df = pd.DataFrame()\n",
    "check_df['actual_y'] = y_test\n",
    "check_df['pred_y'] = y_pred\n",
    "check_df['diff'] = np.abs(check_df['actual_y']-check_df['pred_y'])\n",
    "\n",
    "check_df.sort_values(by = ['diff'], ascending=False)[:10]"
   ]
  },
  {
   "cell_type": "code",
   "execution_count": 17,
   "id": "f9963c7b",
   "metadata": {},
   "outputs": [
    {
     "data": {
      "text/plain": "    actual_y   pred_y     diff  diff_percentage\n70      8693  16151.0   7458.0        85.793167\n44      8988   2939.0   6049.0        67.300846\n36     11781  17462.0   5681.0        48.221713\n43     71506  48326.0  23180.0        32.416860\n67      8012   5462.0   2550.0        31.827259\n22     14246   9867.0   4379.0        30.738453\n52     80349  55992.0  24357.0        30.314005\n58     25961  18818.0   7143.0        27.514348\n76     13131  10053.0   3078.0        23.440713\n56     61344  53290.0   8054.0        13.129238",
      "text/html": "<div>\n<style scoped>\n    .dataframe tbody tr th:only-of-type {\n        vertical-align: middle;\n    }\n\n    .dataframe tbody tr th {\n        vertical-align: top;\n    }\n\n    .dataframe thead th {\n        text-align: right;\n    }\n</style>\n<table border=\"1\" class=\"dataframe\">\n  <thead>\n    <tr style=\"text-align: right;\">\n      <th></th>\n      <th>actual_y</th>\n      <th>pred_y</th>\n      <th>diff</th>\n      <th>diff_percentage</th>\n    </tr>\n  </thead>\n  <tbody>\n    <tr>\n      <th>70</th>\n      <td>8693</td>\n      <td>16151.0</td>\n      <td>7458.0</td>\n      <td>85.793167</td>\n    </tr>\n    <tr>\n      <th>44</th>\n      <td>8988</td>\n      <td>2939.0</td>\n      <td>6049.0</td>\n      <td>67.300846</td>\n    </tr>\n    <tr>\n      <th>36</th>\n      <td>11781</td>\n      <td>17462.0</td>\n      <td>5681.0</td>\n      <td>48.221713</td>\n    </tr>\n    <tr>\n      <th>43</th>\n      <td>71506</td>\n      <td>48326.0</td>\n      <td>23180.0</td>\n      <td>32.416860</td>\n    </tr>\n    <tr>\n      <th>67</th>\n      <td>8012</td>\n      <td>5462.0</td>\n      <td>2550.0</td>\n      <td>31.827259</td>\n    </tr>\n    <tr>\n      <th>22</th>\n      <td>14246</td>\n      <td>9867.0</td>\n      <td>4379.0</td>\n      <td>30.738453</td>\n    </tr>\n    <tr>\n      <th>52</th>\n      <td>80349</td>\n      <td>55992.0</td>\n      <td>24357.0</td>\n      <td>30.314005</td>\n    </tr>\n    <tr>\n      <th>58</th>\n      <td>25961</td>\n      <td>18818.0</td>\n      <td>7143.0</td>\n      <td>27.514348</td>\n    </tr>\n    <tr>\n      <th>76</th>\n      <td>13131</td>\n      <td>10053.0</td>\n      <td>3078.0</td>\n      <td>23.440713</td>\n    </tr>\n    <tr>\n      <th>56</th>\n      <td>61344</td>\n      <td>53290.0</td>\n      <td>8054.0</td>\n      <td>13.129238</td>\n    </tr>\n  </tbody>\n</table>\n</div>"
     },
     "execution_count": 17,
     "metadata": {},
     "output_type": "execute_result"
    }
   ],
   "source": [
    "check_df['diff_percentage'] = check_df['diff']/check_df['actual_y'] * 100\n",
    "check_df.sort_values(by=['diff_percentage'], ascending=False)[:10]"
   ]
  },
  {
   "cell_type": "code",
   "execution_count": 18,
   "id": "cd8814f5",
   "metadata": {},
   "outputs": [],
   "source": [
    "# end of files"
   ]
  },
  {
   "cell_type": "code",
   "execution_count": 18,
   "outputs": [],
   "source": [],
   "metadata": {
    "collapsed": false,
    "pycharm": {
     "name": "#%%\n"
    }
   }
  }
 ],
 "metadata": {
  "kernelspec": {
   "display_name": "Python 3 (ipykernel)",
   "language": "python",
   "name": "python3"
  },
  "language_info": {
   "codemirror_mode": {
    "name": "ipython",
    "version": 3
   },
   "file_extension": ".py",
   "mimetype": "text/x-python",
   "name": "python",
   "nbconvert_exporter": "python",
   "pygments_lexer": "ipython3",
   "version": "3.9.7"
  }
 },
 "nbformat": 4,
 "nbformat_minor": 5
}